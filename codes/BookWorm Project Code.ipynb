{
 "cells": [
  {
   "cell_type": "markdown",
   "id": "fe45a03b-5a8c-4077-a71c-36b72a293c6e",
   "metadata": {
    "id": "fe45a03b-5a8c-4077-a71c-36b72a293c6e"
   },
   "source": [
    "# Group 10: Project Bookworm - Book Recommendation-System\n",
    "\n",
    "Web App: https://project-bookworm1.herokuapp.com/\n",
    "\n",
    "Github: https://github.com/Funnylaksa/book-recommender"
   ]
  },
  {
   "cell_type": "markdown",
   "id": "e131daee-e9cc-488d-9b07-6aa7b3a7da1e",
   "metadata": {
    "id": "e131daee-e9cc-488d-9b07-6aa7b3a7da1e"
   },
   "source": [
    "## 1 MostPop Model"
   ]
  },
  {
   "cell_type": "code",
   "execution_count": 1,
   "id": "616b62f8-aacb-4c80-b032-a16145357627",
   "metadata": {
    "colab": {
     "base_uri": "https://localhost:8080/"
    },
    "id": "616b62f8-aacb-4c80-b032-a16145357627",
    "outputId": "6c028350-3bd0-4045-d977-b109b42d57bc"
   },
   "outputs": [
    {
     "name": "stdout",
     "output_type": "stream",
     "text": [
      "Drive already mounted at /content/drive; to attempt to forcibly remount, call drive.mount(\"/content/drive\", force_remount=True).\n",
      "/content/drive/MyDrive/Recommender Systems Project\n"
     ]
    }
   ],
   "source": [
    "import pandas as pd \n",
    "from ast import literal_eval\n",
    "\n",
    "import os\n",
    "import sys\n",
    "from collections import defaultdict\n",
    "\n",
    "import numpy as np\n",
    "import pandas as pd\n",
    "from google.colab import drive\n",
    "drive.mount('/content/drive')\n",
    "pd.set_option(\"display.max_columns\", None)\n",
    "\n",
    "%cd /content/drive/MyDrive/Recommender Systems Project/"
   ]
  },
  {
   "cell_type": "code",
   "execution_count": 2,
   "id": "09c79f13-1545-41f2-ada7-f19a93c8c119",
   "metadata": {
    "id": "09c79f13-1545-41f2-ada7-f19a93c8c119"
   },
   "outputs": [],
   "source": [
    "# Read file containing book information\n",
    "df = pd.read_csv(\"data/books_enriched.csv\",converters={\"genres\": literal_eval})\n",
    "genres = list(df.genres)\n",
    "genre_list = []\n",
    "\n",
    "for i in genres:\n",
    "    for j in i:\n",
    "        if j in genre_list:\n",
    "            pass\n",
    "        else:\n",
    "            genre_list.append(j)"
   ]
  },
  {
   "cell_type": "code",
   "execution_count": 3,
   "id": "IDyG_0sbTpVN",
   "metadata": {
    "id": "IDyG_0sbTpVN"
   },
   "outputs": [],
   "source": [
    "# Generate a string containing all the genres so that str.contains can be used later\n",
    "newlist = []\n",
    "for genre in df['genres']:\n",
    "    newstring = \" \".join ([str(item) for item in genre])\n",
    "    newlist.append(newstring)\n",
    "\n",
    "df['genres_str'] = newlist\n",
    "\n",
    "# input selected genre here\n",
    "genre = 'science-fiction'\n",
    "mask = df['genres_str'].str.contains(genre, case=False, na=False)"
   ]
  },
  {
   "cell_type": "markdown",
   "id": "7f2e835b-0f8b-4271-8366-5fbc5482b51d",
   "metadata": {
    "id": "7f2e835b-0f8b-4271-8366-5fbc5482b51d"
   },
   "source": [
    "### 1.1 Using IMDB Movie Rating Formula to balance rating vs rating counts for MostPop model"
   ]
  },
  {
   "cell_type": "code",
   "execution_count": 4,
   "id": "0kAshi97WexY",
   "metadata": {
    "id": "0kAshi97WexY"
   },
   "outputs": [],
   "source": [
    "# Read file containing book ratings\n",
    "ratings = pd.read_csv(\"data/ratings.csv\")\n",
    "\n",
    "# Calcuation of weighted ratings\n",
    "C = ratings['rating'].mean()\n",
    "m = 20000\n",
    "list_weighted_rating = []\n",
    "\n",
    "for book_id in df['book_id']:\n",
    "  weighted_rating = 0\n",
    "  v =   float(df[df['book_id'] == book_id]['ratings_count'].to_string(index=False))\n",
    "  R =   float(df[df['book_id'] == book_id]['average_rating'].to_string(index=False))\n",
    "  weighted_rating = (v / (v + m)) * R + (m/(v+m)) * C\n",
    "  list_weighted_rating.append(weighted_rating)\n",
    "\n",
    "weighted = pd.DataFrame(df)\n",
    "weighted['weighted_rating'] = list_weighted_rating\n",
    "\n",
    "# Top 100 books by weighted ratings\n",
    "top100sel = weighted[mask].sort_values('weighted_rating', ascending = False).head(100)['book_id'].to_list()"
   ]
  },
  {
   "cell_type": "markdown",
   "id": "49791102-5799-492f-b3c5-830564adbac9",
   "metadata": {
    "id": "49791102-5799-492f-b3c5-830564adbac9"
   },
   "source": [
    "### 1.2 Include novelty in recommendation. 2 from recent releases, 2 within selected genre"
   ]
  },
  {
   "cell_type": "code",
   "execution_count": 5,
   "id": "V6K3Tyzq_Aeu",
   "metadata": {
    "colab": {
     "base_uri": "https://localhost:8080/"
    },
    "id": "V6K3Tyzq_Aeu",
    "outputId": "8542356b-9189-45e3-fb14-711a70d25515"
   },
   "outputs": [
    {
     "name": "stdout",
     "output_type": "stream",
     "text": [
      "81 14 3 94\n"
     ]
    }
   ],
   "source": [
    "# Randomly generate indexes of 4 books in top 100 list to be replaced\n",
    "from random import randint\n",
    "from random import seed\n",
    "seed(42)\n",
    "newbookidx_one = randint(0,99)\n",
    "newbookidx_two = randint(0,99)\n",
    "genrebookidx_one = randint(0,99)\n",
    "genrebookidx_two = randint(0,99)\n",
    "\n",
    "print(newbookidx_one, newbookidx_two, genrebookidx_one, genrebookidx_two)"
   ]
  },
  {
   "cell_type": "code",
   "execution_count": 6,
   "id": "7O2Mrsuc-fPm",
   "metadata": {
    "colab": {
     "base_uri": "https://localhost:8080/"
    },
    "id": "7O2Mrsuc-fPm",
    "outputId": "6b9cd6f2-d2c0-4a7c-f7ad-6c3a0ce417b2"
   },
   "outputs": [
    {
     "name": "stdout",
     "output_type": "stream",
     "text": [
      "[232, 569]\n"
     ]
    }
   ],
   "source": [
    "# Select 2 books of the same genre that are outside of the top 100 list\n",
    "genre_df = df[mask]\n",
    "genre_two = genre_df[~genre_df['book_id'].isin(top100sel)].sample(n=2)['book_id'].to_list()\n",
    "\n",
    "print(genre_two)"
   ]
  },
  {
   "cell_type": "code",
   "execution_count": 7,
   "id": "7Hm3ZhaIDulw",
   "metadata": {
    "colab": {
     "base_uri": "https://localhost:8080/"
    },
    "id": "7Hm3ZhaIDulw",
    "outputId": "24b6823f-50d9-4df1-a9a1-3b5759b6cc88"
   },
   "outputs": [
    {
     "name": "stdout",
     "output_type": "stream",
     "text": [
      "[7852, 5387]\n"
     ]
    }
   ],
   "source": [
    "# Select 2 books of the most recent year, irrespective of genre\n",
    "from datetime import date\n",
    "todays_date = date.today()\n",
    "yr = todays_date.year\n",
    "\n",
    "new_two = df.loc[df['publishDate'].str.contains(\".*2020\") == True].sort_values(\"weighted_rating\", ascending = False).head(2)['book_id'].to_list()\n",
    "\n",
    "print(new_two)"
   ]
  },
  {
   "cell_type": "markdown",
   "id": "a810ed7c-7dbb-451e-ba55-88ff37c69bf8",
   "metadata": {
    "id": "a810ed7c-7dbb-451e-ba55-88ff37c69bf8"
   },
   "source": [
    "### 1.3 List of recommendations from MostPop model"
   ]
  },
  {
   "cell_type": "code",
   "execution_count": 8,
   "id": "CHSfLlGTInlc",
   "metadata": {
    "colab": {
     "base_uri": "https://localhost:8080/"
    },
    "id": "CHSfLlGTInlc",
    "outputId": "864e8df3-0651-41ec-f0ad-64e457c1b12f"
   },
   "outputs": [
    {
     "name": "stdout",
     "output_type": "stream",
     "text": [
      "[161, 507, 774, 232, 1353, 893, 2767, 141, 1342, 1651, 1, 2149, 19, 337, 5387, 1808, 1723, 1183, 2093, 168, 1341, 2356, 1002, 1419, 17, 70, 1355, 215, 1223, 712, 3191, 2527, 1169, 1337, 1556, 581, 295, 3358, 3607, 2889, 713, 746, 760, 3775, 12, 3282, 3765, 1687, 4522, 283, 1170, 365, 846, 953, 4432, 1029, 2884, 858, 2655, 750, 3325, 3770, 2269, 1505, 1368, 54, 725, 6527, 612, 937, 806, 3544, 8408, 599, 4959, 4751, 755, 1142, 910, 742, 890, 7852, 1924, 506, 327, 6027, 2118, 5171, 7945, 729, 2975, 5488, 6214, 3057, 569, 8187, 322, 1812, 6224, 297]\n"
     ]
    }
   ],
   "source": [
    "# Replacement using the selected books\n",
    "top100sel[newbookidx_one] = new_two[0]\n",
    "top100sel[newbookidx_two] = new_two[1]\n",
    "top100sel[genrebookidx_one] = genre_two[0]\n",
    "top100sel[genrebookidx_two] = genre_two[1]\n",
    "\n",
    "print(top100sel)"
   ]
  },
  {
   "cell_type": "markdown",
   "id": "3e28fe34-6c7f-4ef3-840e-94310a2971eb",
   "metadata": {
    "id": "3e28fe34-6c7f-4ef3-840e-94310a2971eb"
   },
   "source": [
    "# 2 Model Experimentation"
   ]
  },
  {
   "cell_type": "code",
   "execution_count": 9,
   "id": "92ae4439",
   "metadata": {
    "colab": {
     "base_uri": "https://localhost:8080/"
    },
    "id": "92ae4439",
    "outputId": "ec4e43ca-77fb-47f2-b4e5-e821fd3c08af"
   },
   "outputs": [
    {
     "name": "stdout",
     "output_type": "stream",
     "text": [
      "TensorFlow 1.x selected.\n",
      "System version: 3.7.13 (default, Apr 24 2022, 01:04:09) \n",
      "[GCC 7.5.0]\n",
      "Cornac version: 1.14.2\n",
      "Tensorflow version: 1.15.2\n"
     ]
    }
   ],
   "source": [
    "!pip install --quiet cornac==1.14.2 adjustText \n",
    "import os\n",
    "import sys\n",
    "from collections import defaultdict\n",
    "\n",
    "import numpy as np\n",
    "import pandas as pd\n",
    "import seaborn as sns\n",
    "import matplotlib.pyplot as plt\n",
    "from adjustText import adjust_text\n",
    "%matplotlib inline\n",
    "\n",
    "import cornac\n",
    "from cornac.utils import cache\n",
    "from cornac.datasets import movielens\n",
    "from cornac.eval_methods import RatioSplit\n",
    "from cornac.models import MF, BPR, WMF,CTR,CDL\n",
    "from cornac.data import GraphModality, TextModality, ImageModality\n",
    "from cornac.data.text import BaseTokenizer\n",
    "\n",
    "%tensorflow_version 1.x\n",
    "import tensorflow as tf\n",
    "\n",
    "print(f\"System version: {sys.version}\")\n",
    "print(f\"Cornac version: {cornac.__version__}\")\n",
    "print(f\"Tensorflow version: {tf.__version__}\")\n",
    "\n",
    "SEED = 42\n",
    "VERBOSE = True"
   ]
  },
  {
   "cell_type": "code",
   "execution_count": 10,
   "id": "bace85fa",
   "metadata": {
    "id": "bace85fa"
   },
   "outputs": [],
   "source": [
    "ratings[\"user_id\"] = ratings[\"user_id\"].astype(str) \n",
    "ratings[\"book_id\"] = ratings[\"book_id\"].astype(str) \n",
    "ratings = ratings.to_numpy()"
   ]
  },
  {
   "cell_type": "markdown",
   "id": "j5YyAwTk0bfV",
   "metadata": {
    "id": "j5YyAwTk0bfV"
   },
   "source": [
    "2.1 WMF"
   ]
  },
  {
   "cell_type": "code",
   "execution_count": 11,
   "id": "cf4bd7ce",
   "metadata": {
    "colab": {
     "base_uri": "https://localhost:8080/",
     "height": 637,
     "referenced_widgets": [
      "17634357af6d450dacfb6cbeb73b97ff",
      "d7df98fefa564bdaa1aaf67e443d7e4a",
      "4cbe9f73e0184c89b7a718bb6f7280a5",
      "3457e06763c040629f9d4f0de33e73d5",
      "7485ea060f8d4f3d8fce022a7fcb2897",
      "cbbe9e829d6f47cd98d2992caefa72e1",
      "463d4599e8f14fcd9c48c2806143cd92",
      "19cd67a3b9754f7bb91c29962de49b32",
      "8cb7b9a6796f4ba38d9c23bb0b3421ce",
      "c8bbc67a81ce4119ba89ee29cd2282f6",
      "4a789fa6e6754965a4aeb1b07791c3e8",
      "7a004461acbb4a2ca51aba47a29402e9",
      "8ef0029dbec146e08f119b2a1599ce29",
      "05c8ee9061cc4adf85a525ea0945229b",
      "985f4912e1a948939da37f4f92f3e645",
      "1c5f3e6ac8524c739bf93d2791ac1ef5",
      "80e7dbe704204ad2b98b101191388379",
      "8918c1bd48d9418f9987c6a693b0a478",
      "475c5fd8f78a44308807ad438f1edafb",
      "0fa826298bf64143a44933f8a762c443",
      "97cc9b5f894f438c9ceab73ef5cc2585",
      "ccfded815c5049fe8294e47fbc0d0ad0"
     ]
    },
    "id": "cf4bd7ce",
    "outputId": "9c42b1e0-0590-4567-d462-4ced374576fd"
   },
   "outputs": [
    {
     "name": "stdout",
     "output_type": "stream",
     "text": [
      "rating_threshold = 1.0\n",
      "exclude_unknowns = True\n",
      "---\n",
      "Training data:\n",
      "Number of users = 53424\n",
      "Number of items = 10000\n",
      "Number of ratings = 4781183\n",
      "Max rating = 5.0\n",
      "Min rating = 1.0\n",
      "Global mean = 3.9\n",
      "---\n",
      "Test data:\n",
      "Number of users = 53424\n",
      "Number of items = 10000\n",
      "Number of ratings = 1195296\n",
      "Number of unknown users = 0\n",
      "Number of unknown items = 0\n",
      "---\n",
      "Total users = 53424\n",
      "Total items = 10000\n",
      "\n",
      "[WMF(K=100)] Training started!\n"
     ]
    },
    {
     "data": {
      "application/vnd.jupyter.widget-view+json": {
       "model_id": "17634357af6d450dacfb6cbeb73b97ff",
       "version_major": 2,
       "version_minor": 0
      },
      "text/plain": [
       "  0%|          | 0/100 [00:00<?, ?it/s]"
      ]
     },
     "metadata": {},
     "output_type": "display_data"
    },
    {
     "name": "stdout",
     "output_type": "stream",
     "text": [
      "Learning completed!\n",
      "\n",
      "[WMF(K=100)] Evaluation started!\n"
     ]
    },
    {
     "data": {
      "application/vnd.jupyter.widget-view+json": {
       "model_id": "7a004461acbb4a2ca51aba47a29402e9",
       "version_major": 2,
       "version_minor": 0
      },
      "text/plain": [
       "Ranking:   0%|          | 0/53424 [00:00<?, ?it/s]"
      ]
     },
     "metadata": {},
     "output_type": "display_data"
    },
    {
     "name": "stdout",
     "output_type": "stream",
     "text": [
      "\n",
      "TEST:\n",
      "...\n",
      "           | NCRR@50 | NDCG@50 | Precision@50 | Recall@50 | Train (s) | Test (s)\n",
      "---------- + ------- + ------- + ------------ + --------- + --------- + --------\n",
      "WMF(K=100) |  0.1149 |  0.1481 |       0.0815 |    0.1893 | 1772.6314 | 144.5479\n",
      "\n"
     ]
    }
   ],
   "source": [
    "# Tune WMF model to get best results\n",
    "from cornac.metrics import Recall, NDCG, NCRR, FMeasure, Precision\n",
    "K = 100\n",
    "wmf = WMF(k=K, max_iter=100, learning_rate=0.0005, lambda_u=0.01, lambda_v=0.01,\n",
    "          verbose=VERBOSE, name=f\"WMF(K={K})\")\n",
    "\n",
    "metrics = [NDCG(k=50), NCRR(k=50), Recall(k=50), Precision(k=50)]\n",
    "\n",
    "data = ratings\n",
    "rs = RatioSplit(data, test_size=0.2, verbose=VERBOSE)\n",
    "cornac.Experiment(eval_method=rs, models=[wmf], metrics=metrics).run()"
   ]
  },
  {
   "cell_type": "code",
   "execution_count": 12,
   "id": "0bd4e1ae",
   "metadata": {
    "id": "0bd4e1ae"
   },
   "outputs": [],
   "source": [
    "# Read Data\n",
    "\n",
    "df_rating = pd.read_csv(\"data/ratings.csv\",encoding=\"utf-8\")\n",
    "df_description=pd.read_csv(\"data/books_enriched.csv\")\n",
    "\n",
    "pd.to_numeric(df_rating['rating'])\n",
    "#df['user_id'] = df['user_id'].astype(str)\n",
    "#df['book_id'] = df['book_id'].astype(str)\n",
    "corpus=df_description['description']\n",
    "itemid=df_description['book_id']\n",
    "ratingdata=[]\n",
    "for i in range(len(df_rating['rating'])):\n",
    "    ratingdata.append([df_rating['user_id'][i],df_rating['book_id'][i],df_rating['rating'][i]])"
   ]
  },
  {
   "cell_type": "code",
   "execution_count": 13,
   "id": "06b03607",
   "metadata": {
    "id": "06b03607"
   },
   "outputs": [],
   "source": [
    "#read description\n",
    "corpus1=[]\n",
    "itemid1=[]\n",
    "for i in corpus:\n",
    "    if isinstance(i,float):\n",
    "        i='no description available'\n",
    "    corpus1.append(i)\n",
    "for i in itemid:\n",
    "    itemid1.append(i)"
   ]
  },
  {
   "cell_type": "code",
   "execution_count": 14,
   "id": "f63e5183",
   "metadata": {
    "id": "f63e5183"
   },
   "outputs": [],
   "source": [
    "#define text modality and ratio split\n",
    "item_text_modality = TextModality(\n",
    "    corpus=corpus1,\n",
    "    ids=itemid1,\n",
    "    tokenizer=BaseTokenizer(sep=\" \", stop_words=\"english\",pre_rules=None),\n",
    "    max_vocab=5000,\n",
    "    max_doc_freq=0.5,\n",
    ")\n",
    "eval_metrics = [\n",
    "  cornac.metrics.Precision(k=50),\n",
    "  cornac.metrics.Recall(k=50),\n",
    "  cornac.metrics.NDCG(k=[50]),\n",
    "  cornac.metrics.NCRR(k=[50])\n",
    "  \n",
    "]"
   ]
  },
  {
   "cell_type": "code",
   "execution_count": 15,
   "id": "a631905a",
   "metadata": {
    "colab": {
     "base_uri": "https://localhost:8080/"
    },
    "id": "a631905a",
    "outputId": "3685a8bd-d166-4341-a3c1-991e7c7d0935"
   },
   "outputs": [
    {
     "name": "stdout",
     "output_type": "stream",
     "text": [
      "rating_threshold = 1.0\n",
      "exclude_unknowns = True\n",
      "---\n",
      "Training data:\n",
      "Number of users = 53424\n",
      "Number of items = 10000\n",
      "Number of ratings = 4781183\n",
      "Max rating = 5.0\n",
      "Min rating = 1.0\n",
      "Global mean = 3.9\n",
      "---\n",
      "Test data:\n",
      "Number of users = 53424\n",
      "Number of items = 10000\n",
      "Number of ratings = 1195296\n",
      "Number of unknown users = 0\n",
      "Number of unknown items = 0\n",
      "---\n",
      "Total users = 53424\n",
      "Total items = 10000\n"
     ]
    }
   ],
   "source": [
    "ratio_split = RatioSplit(\n",
    "    data=ratingdata,\n",
    "    test_size=0.2,\n",
    "    #rating_threshold=4.0,\n",
    "    exclude_unknowns=True,\n",
    "    item_text=item_text_modality,\n",
    "    verbose=True,\n",
    "    seed=2022\n",
    ")"
   ]
  },
  {
   "cell_type": "markdown",
   "id": "72s8Lqcb0pJR",
   "metadata": {
    "id": "72s8Lqcb0pJR"
   },
   "source": [
    "### 2.2 CTR"
   ]
  },
  {
   "cell_type": "code",
   "execution_count": 16,
   "id": "7e8058ae",
   "metadata": {
    "colab": {
     "base_uri": "https://localhost:8080/",
     "height": 289,
     "referenced_widgets": [
      "90823a74c4ce45ae9fe628a17f361ff7",
      "6379403d02ba44aeaedea4ea563fa998",
      "287ffdfef51c44ea8f029d6c02464c75",
      "38d87dc9ef224487ab723d9bb2394aab",
      "51a98b43ef3e48f8b973bf36dbeecd63",
      "6c1f989b1ae347c4a5be66ca9771c376",
      "c60bcfddfe3b4b038884e499d8b528ca",
      "2350ee90d4574021b75e7e9920b33a86",
      "4a5ffec40ef5402695e098cabd1386a0",
      "8f080beddbe246f6b4796984a93189cc",
      "88190339039b4a68b9a7d821dba002a0",
      "e05cabb4898f4155ab4cf3f4016e0992",
      "826c413006484fd891e47b600aa44c84",
      "cea11d2b36af4e8fb1bfc5cd0335206b",
      "fd833978cea54ce5a68fc38cad53a850",
      "62ed222bfb1d43db8028763363fe834c",
      "114bf985f9aa4b0a9de97611af13b07e",
      "7142e258da0a4bdda091777b1a8aab85",
      "23def9272f56402286862d781032c0ee",
      "465cde7973f242fea0101060c45136c2",
      "3b95cf662fa44e7a8849f2283900683b",
      "4fdabb02f4f148a8bc68f065fe05627b"
     ]
    },
    "id": "7e8058ae",
    "outputId": "fff2f3cd-0f3f-460b-bf2e-17e0858ce14d"
   },
   "outputs": [
    {
     "name": "stdout",
     "output_type": "stream",
     "text": [
      "\n",
      "[CTR] Training started!\n"
     ]
    },
    {
     "data": {
      "application/vnd.jupyter.widget-view+json": {
       "model_id": "90823a74c4ce45ae9fe628a17f361ff7",
       "version_major": 2,
       "version_minor": 0
      },
      "text/plain": [
       "  0%|          | 0/50 [00:00<?, ?it/s]"
      ]
     },
     "metadata": {},
     "output_type": "display_data"
    },
    {
     "name": "stdout",
     "output_type": "stream",
     "text": [
      "Learning completed!\n",
      "\n",
      "[CTR] Evaluation started!\n"
     ]
    },
    {
     "data": {
      "application/vnd.jupyter.widget-view+json": {
       "model_id": "e05cabb4898f4155ab4cf3f4016e0992",
       "version_major": 2,
       "version_minor": 0
      },
      "text/plain": [
       "Ranking:   0%|          | 0/53424 [00:00<?, ?it/s]"
      ]
     },
     "metadata": {},
     "output_type": "display_data"
    },
    {
     "name": "stdout",
     "output_type": "stream",
     "text": [
      "\n",
      "TEST:\n",
      "...\n",
      "    | NCRR@50 | NDCG@50 | Precision@50 | Recall@50 | Train (s) | Test (s)\n",
      "--- + ------- + ------- + ------------ + --------- + --------- + --------\n",
      "CTR |  0.1210 |  0.1523 |       0.0826 |    0.1926 | 1070.0468 | 142.1304\n",
      "\n"
     ]
    }
   ],
   "source": [
    "#run a ctr model\n",
    "K=50\n",
    "ctr = CTR(k=K, max_iter=50, a=1.0, b=0.01, lambda_u=0.01, lambda_v=0.01, verbose=True, seed=42)\n",
    "cornac.Experiment(eval_method=ratio_split, models=[ctr], metrics=eval_metrics).run()"
   ]
  },
  {
   "cell_type": "markdown",
   "id": "eUKZviui0-yn",
   "metadata": {
    "id": "eUKZviui0-yn"
   },
   "source": [
    "### 2.3 CDL"
   ]
  },
  {
   "cell_type": "code",
   "execution_count": 17,
   "id": "2cbe1a8d",
   "metadata": {
    "id": "2cbe1a8d"
   },
   "outputs": [],
   "source": [
    "#run a cdl model\n",
    "VOCAB_SIZE = 5000  # @param\n",
    "NUM_FACTORS = 100  # @param\n",
    "AE_LAYERS = [500, 100]  # @param\n",
    "ACTIVATION = \"tanh\"  # @param [\"tanh\", \"sigmoid\", \"relu\", \"leaky_relu\"]\n",
    "A = 1.0  # @param\n",
    "B = 0.01  # @param\n",
    "LAMBDA_U = 0.1  # @param\n",
    "LAMBDA_V = 0.1  # @param\n",
    "LAMBDA_W = 0.1  # @param\n",
    "LAMBDA_N = 10.0  # @param\n",
    "CORRUPTION_RATE = 0.3  # @param\n",
    "DROPOUT_RATE = 0.1  # @param\n",
    "NUM_EPOCHS = 60  # @param \n",
    "BATCH_SIZE = 80  # @param\n",
    "LEARNING_RATE = 0.001  # @param\n",
    "cdl = CDL(k=NUM_FACTORS, autoencoder_structure=AE_LAYERS, act_fn=ACTIVATION, a=A, b=B,\n",
    "          lambda_u=LAMBDA_U, lambda_v=LAMBDA_V, lambda_w=LAMBDA_W, lambda_n=LAMBDA_N,\n",
    "          corruption_rate=CORRUPTION_RATE, dropout_rate=DROPOUT_RATE, vocab_size=VOCAB_SIZE,\n",
    "          max_iter=NUM_EPOCHS, batch_size=BATCH_SIZE, seed=SEED, verbose=VERBOSE)"
   ]
  },
  {
   "cell_type": "code",
   "execution_count": 18,
   "id": "a89f4408",
   "metadata": {
    "colab": {
     "base_uri": "https://localhost:8080/",
     "height": 289,
     "referenced_widgets": [
      "a6e2530b0e57448694a813d9d6b52033",
      "3b6ad22d1b584f7bbe94eb0b13824114",
      "21cd264e9fae4e70becb5afc0e8e76be",
      "837c2bd5fdae486b99415fdff217df06",
      "09aa9693548a4d2383290bd443a2a9cc",
      "923f929e5bb2409e9282505a29ab1789",
      "1cad79f7e6424422adf469a13c4eeeed",
      "1887517fbda24c518be24b44d6d6b497",
      "cc614e9401eb44e6ace7ca32e830cabd",
      "d0c1530531d644978acc546698eac99e",
      "2ab74caced084ba292ea59920515a144",
      "6f2c4ede9c264294ac9823c8f5635212",
      "8c725e4a8585424383d88dbc4acb668c",
      "e72ecd9b7c6e45a88eb5c094e340d4c4",
      "7f4fb277b88c4f5f8702b1a007506979",
      "47eb9bc8319d479fa7767078c5f76d84",
      "2c244840607e4015a2481215bfa3fc68",
      "47af3ca453964dc4a54f8598ec2d0f74",
      "7b67470740dc463799eb717163ec22c4",
      "49efa87e28ca451592f1e4e44e49fcc0",
      "ee919f02675b4122a29054a3070a66e7",
      "b2c6cb62d99e4da697c7155c5b514635"
     ]
    },
    "id": "a89f4408",
    "outputId": "ea0b0aa5-e852-4d86-d8c3-eec0cc94f51b"
   },
   "outputs": [
    {
     "name": "stdout",
     "output_type": "stream",
     "text": [
      "\n",
      "[CDL] Training started!\n"
     ]
    },
    {
     "data": {
      "application/vnd.jupyter.widget-view+json": {
       "model_id": "a6e2530b0e57448694a813d9d6b52033",
       "version_major": 2,
       "version_minor": 0
      },
      "text/plain": [
       "  0%|          | 0/60 [00:00<?, ?it/s]"
      ]
     },
     "metadata": {},
     "output_type": "display_data"
    },
    {
     "name": "stdout",
     "output_type": "stream",
     "text": [
      "Learning completed!\n",
      "\n",
      "[CDL] Evaluation started!\n"
     ]
    },
    {
     "data": {
      "application/vnd.jupyter.widget-view+json": {
       "model_id": "6f2c4ede9c264294ac9823c8f5635212",
       "version_major": 2,
       "version_minor": 0
      },
      "text/plain": [
       "Ranking:   0%|          | 0/53424 [00:00<?, ?it/s]"
      ]
     },
     "metadata": {},
     "output_type": "display_data"
    },
    {
     "name": "stdout",
     "output_type": "stream",
     "text": [
      "\n",
      "TEST:\n",
      "...\n",
      "    | NCRR@50 | NDCG@50 | Precision@50 | Recall@50 | Train (s) | Test (s)\n",
      "--- + ------- + ------- + ------------ + --------- + --------- + --------\n",
      "CDL |  0.1245 |  0.1592 |       0.0871 |    0.2030 | 2085.0262 | 150.5653\n",
      "\n"
     ]
    }
   ],
   "source": [
    "cornac.Experiment(eval_method=ratio_split, models=[cdl], metrics=eval_metrics).run()"
   ]
  },
  {
   "cell_type": "code",
   "execution_count": 19,
   "id": "e3d35651",
   "metadata": {
    "id": "e3d35651"
   },
   "outputs": [],
   "source": [
    "#save book's latent factors to csv\n",
    "iid=cdl.train_set.iid_map\n",
    "book_latent1=[]\n",
    "for i in range(1,len(cdl.V)+1):\n",
    "  book_latent1.append(list(cdl.V[iid[i]]))\n",
    "blatent=pd.DataFrame(book_latent1)\n",
    "blatent.to_csv('book latent.csv',encoding='UTF-8')"
   ]
  },
  {
   "cell_type": "code",
   "execution_count": 20,
   "id": "0dfa289a",
   "metadata": {
    "colab": {
     "base_uri": "https://localhost:8080/"
    },
    "id": "0dfa289a",
    "outputId": "d7340b57-2790-4291-cbd7-0e3f617f16cd"
   },
   "outputs": [
    {
     "name": "stdout",
     "output_type": "stream",
     "text": [
      "checkpoint reached\n",
      "checkpoint reached\n",
      "checkpoint reached\n",
      "checkpoint reached\n",
      "checkpoint reached\n"
     ]
    }
   ],
   "source": [
    "#mapping back to origin userid bookid\n",
    "uid=cdl.train_set.uid_map\n",
    "iid=cdl.train_set.iid_map\n",
    "iid=list(iid)\n",
    "predict=[]\n",
    "for i in range(1,53425):\n",
    "    org=list(cdl.rank(uid[i])[0])\n",
    "    output=[]\n",
    "    if i%10000==0:\n",
    "        print('checkpoint reached')\n",
    "    for j in org:\n",
    "        output.append(iid[j])\n",
    "    predict.append(output)"
   ]
  },
  {
   "cell_type": "code",
   "execution_count": 21,
   "id": "52f796b0",
   "metadata": {
    "colab": {
     "base_uri": "https://localhost:8080/"
    },
    "id": "52f796b0",
    "outputId": "b8f7be52-48bd-4f38-8f14-bbb04efd9814"
   },
   "outputs": [
    {
     "name": "stdout",
     "output_type": "stream",
     "text": [
      "checkpoint reached\n",
      "checkpoint reached\n",
      "checkpoint reached\n",
      "checkpoint reached\n",
      "checkpoint reached\n"
     ]
    }
   ],
   "source": [
    "#save model prediction outcome as csv\n",
    "uid=cdl.train_set.uid_map\n",
    "iid=cdl.train_set.iid_map\n",
    "iid=list(iid)\n",
    "predict=[]\n",
    "for i in range(1,53425):\n",
    "    org=list(cdl.rank(uid[i])[0])\n",
    "    output=[]\n",
    "    if i%10000==0:\n",
    "        print('checkpoint reached')\n",
    "    for j in org:\n",
    "        output.append(iid[j])\n",
    "    predict.append(output)\n",
    "prediction=[]\n",
    "for i in range(len(predict)):\n",
    "    prediction.append(predict[i][0:100])\n",
    "predictiondf=pd.DataFrame(prediction)\n",
    "predictiondf.to_csv('option1.csv')"
   ]
  },
  {
   "cell_type": "markdown",
   "id": "0ce00aaa",
   "metadata": {
    "id": "0ce00aaa"
   },
   "source": [
    "## 3. Derive book's similarity based on latent factors"
   ]
  },
  {
   "cell_type": "code",
   "execution_count": 22,
   "id": "f678180d",
   "metadata": {
    "id": "f678180d"
   },
   "outputs": [],
   "source": [
    "book_simi=pd.read_csv('book latent.csv')\n",
    "book=[]\n",
    "for i in range(10000):\n",
    "    book.append(book_simi.iloc[i,:])"
   ]
  },
  {
   "cell_type": "code",
   "execution_count": 23,
   "id": "75cccb2c",
   "metadata": {
    "id": "75cccb2c"
   },
   "outputs": [],
   "source": [
    "#function to calculate cosine similarity\n",
    "def cosine_similarity(x,y):\n",
    "    num=0\n",
    "    denomx=0\n",
    "    denomy=0\n",
    "    for i in range(len(x)):\n",
    "        num+=x[i]*y[i]\n",
    "        denomx+=x[i]**2\n",
    "        denomy+=y[i]**2\n",
    "        regu=1/len(x)\n",
    "    similarity=num/((denomx**regu)*(denomy**regu))\n",
    "    \n",
    "    return similarity"
   ]
  },
  {
   "cell_type": "code",
   "execution_count": 24,
   "id": "6dac66ab",
   "metadata": {
    "id": "6dac66ab"
   },
   "outputs": [],
   "source": [
    "#produce a matrix for similarity between two books\n",
    "def similarity(list):\n",
    "    simi=0\n",
    "    result=[]\n",
    "    for i in range(10000):\n",
    "        result.append([])\n",
    "        for j in range(10000):\n",
    "            result[i].append(-20)\n",
    "    for i in range(10000):\n",
    "        if i%1000==0:\n",
    "            print('check point')\n",
    "        for j in range(i+1,10000):\n",
    "            simi=cosine_similarity(list[i],list[j])\n",
    "            result[i][j]=simi\n",
    "            result[j][i]=simi\n",
    "    return result"
   ]
  },
  {
   "cell_type": "code",
   "execution_count": 25,
   "id": "9926951a",
   "metadata": {
    "id": "9926951a"
   },
   "outputs": [],
   "source": [
    "#sort by the similarity and extract top100 similar books\n",
    "def similar(li):\n",
    "    idx=[]\n",
    "    result=[]\n",
    "    for i in range(1,10000):\n",
    "        idx.append(i)\n",
    "    for i in range(10000):\n",
    "        if i%1000==0:\n",
    "            print('check point')\n",
    "        to_be_sort=pd.DataFrame([idx,li[i]],index=['idx','similarity'])\n",
    "        to_be_sort.sort_values(by='similarity',inplace=True,ascending=False,axis=1)\n",
    "        result.append(list(to_be_sort.iloc[0,:]))\n",
    "    return result\n",
    "        "
   ]
  },
  {
   "cell_type": "code",
   "execution_count": 26,
   "id": "165373df",
   "metadata": {
    "id": "165373df"
   },
   "outputs": [],
   "source": [
    "#save result to csv\n",
    "# simibook=similarity(book)\n",
    "# option2=similar(simibook)\n",
    "# option2=pd.DataFrame(option2)\n",
    "# option2.to_csv('option2.csv')"
   ]
  },
  {
   "cell_type": "code",
   "execution_count": 27,
   "id": "25255920",
   "metadata": {
    "id": "25255920"
   },
   "outputs": [],
   "source": [
    "#calculate harmonic mean\n",
    "def ho_mean(l):\n",
    "    result=0\n",
    "    for i in l:\n",
    "        result+=1/i\n",
    "    result=len(l)/result\n",
    "    return result"
   ]
  },
  {
   "cell_type": "raw",
   "id": "81a87e52",
   "metadata": {
    "id": "81a87e52"
   },
   "source": [
    "## 4. Model comparison"
   ]
  },
  {
   "cell_type": "code",
   "execution_count": 28,
   "id": "f243d8e8",
   "metadata": {
    "id": "f243d8e8"
   },
   "outputs": [],
   "source": [
    "evaluet={'CDL':[0.1275,0.1588,0.0857,0.2035],\n",
    "         'CTR':[0.1234,0.1581,0.0834,0.1940],\n",
    "         'WMF':[0.1150,0.1485,0.0817,0.1898]\n",
    "        }\n",
    "df=pd.DataFrame(evaluet).transpose()\n",
    "metric=['NDCG','NCRR','Precision','Recall']\n",
    "df.columns=metric"
   ]
  },
  {
   "cell_type": "code",
   "execution_count": 29,
   "id": "acc82cc1",
   "metadata": {
    "colab": {
     "base_uri": "https://localhost:8080/",
     "height": 673
    },
    "id": "acc82cc1",
    "outputId": "05054f61-1450-4d9b-e490-8a9ef9cbfaea"
   },
   "outputs": [
    {
     "data": {
      "image/png": "[encoded data removed]",
      "text/plain": [
       "<Figure size 1152x720 with 1 Axes>"
      ]
     },
     "metadata": {
      "needs_background": "light"
     },
     "output_type": "display_data"
    }
   ],
   "source": [
    "plt.figure(figsize=(16,10))\n",
    "plt.style.use('ggplot')\n",
    "plt.plot(metric,df.iloc[0,:],color='r',label='CDL')\n",
    "plt.plot(metric,df.iloc[1,:],color='b',label='CTR')\n",
    "plt.plot(metric,df.iloc[2,:],color='g',label='WMF')\n",
    "plt.legend(fontsize=15)\n",
    "plt.xticks(fontsize=30)\n",
    "\n",
    "plt.xlabel(\"metrics\",fontsize=30)\n",
    "plt.title('Model Comparison',fontsize=30)\n",
    "\n",
    "plt.grid(True)\n"
   ]
  },
  {
   "cell_type": "markdown",
   "id": "3e954c4b",
   "metadata": {
    "id": "3e954c4b"
   },
   "source": [
    "## 5. Grid Search Visualization (Hyperparameter Tuning)"
   ]
  },
  {
   "cell_type": "code",
   "execution_count": 30,
   "id": "a78dbee8",
   "metadata": {
    "colab": {
     "base_uri": "https://localhost:8080/",
     "height": 664
    },
    "id": "a78dbee8",
    "outputId": "24560609-e7ea-4374-8a51-f6f27649a3cf"
   },
   "outputs": [
    {
     "name": "stderr",
     "output_type": "stream",
     "text": [
      "/usr/local/lib/python3.7/dist-packages/ipykernel_launcher.py:13: UserWarning: The following kwargs were not used by contour: 'zdim'\n",
      "  del sys.path[0]\n",
      "/usr/local/lib/python3.7/dist-packages/mpl_toolkits/mplot3d/art3d.py:304: VisibleDeprecationWarning: Creating an ndarray from ragged nested sequences (which is a list-or-tuple of lists-or-tuples-or ndarrays with different lengths or shapes) is deprecated. If you meant to do this, you must specify 'dtype=object' when creating the ndarray.\n",
      "  self._segments3d = np.asanyarray(segments)\n"
     ]
    },
    {
     "data": {
      "image/png": "[encoded data removed]",
      "text/plain": [
       "<Figure size 720x720 with 1 Axes>"
      ]
     },
     "metadata": {},
     "output_type": "display_data"
    }
   ],
   "source": [
    "fig = plt.figure(figsize=(10,10))  \n",
    "ax3 = plt.axes(projection='3d')\n",
    "\n",
    "\n",
    "x = np.array([50, 100, 150])\n",
    "y = np.array([50, 100, 150, 200])\n",
    "Z=np.array([[0.1119,0.1170,0.1147],[0.1173,0.1275,0.1137],[0.1145,0.1155,0.1134],[0.1112,0.1213,0.1177]])\n",
    "X, Y = np.meshgrid(x, y)\n",
    "\n",
    "\n",
    "\n",
    "ax3.plot_surface(X,Y,Z,cmap='rainbow')\n",
    "ax3.contour(X,Y,Z, zdim='z',offset=0,cmap=plt.cm.Spectral)  \n",
    "plt.xlabel('batch size',fontsize=20)\n",
    "plt.ylabel('number of latent factors',fontsize=20)\n",
    "plt.show()"
   ]
  },
  {
   "cell_type": "markdown",
   "id": "19b8bcff",
   "metadata": {
    "id": "19b8bcff"
   },
   "source": [
    "### 6.1 Latent Factor Visualization 1 (Latent factor similarity between books)"
   ]
  },
  {
   "cell_type": "code",
   "execution_count": 31,
   "id": "8f76cb35",
   "metadata": {
    "colab": {
     "base_uri": "https://localhost:8080/",
     "height": 863
    },
    "id": "8f76cb35",
    "outputId": "0b3ef62e-d286-473c-9783-69779bc95ef4"
   },
   "outputs": [
    {
     "data": {
      "image/png": "[encoded data removed]",
      "text/plain": [
       "<Figure size 1440x1080 with 1 Axes>"
      ]
     },
     "metadata": {},
     "output_type": "display_data"
    }
   ],
   "source": [
    "bl=pd.read_csv('book latent.csv')\n",
    "latent1=bl.iloc[1,1:21]\n",
    "latent2=bl.iloc[19,1:21]\n",
    "latent3=bl.iloc[3771,1:21]\n",
    "df=pd.DataFrame([latent1,latent2,latent3])\n",
    "latent=range(1,21)\n",
    "plt.figure(figsize=(20,15))\n",
    "plt.plot(latent,latent1,color='black',label='Harry Potter and the Sorcerers Stone')\n",
    "plt.plot(latent,latent2,color='red',label='Harry Potter and the Order of the Phoenix')\n",
    "plt.ylim(-1,1.2)\n",
    "plt.legend(fontsize=10,loc=2)\n",
    "plt.show()"
   ]
  },
  {
   "cell_type": "code",
   "execution_count": 32,
   "id": "4ed8b0e8",
   "metadata": {
    "colab": {
     "base_uri": "https://localhost:8080/",
     "height": 863
    },
    "id": "4ed8b0e8",
    "outputId": "a02a0a69-a9b8-41e3-e7cc-b9fba613708b"
   },
   "outputs": [
    {
     "data": {
      "image/png": "[encoded data removed]",
      "text/plain": [
       "<Figure size 1440x1080 with 1 Axes>"
      ]
     },
     "metadata": {},
     "output_type": "display_data"
    }
   ],
   "source": [
    "plt.figure(figsize=(20,15))\n",
    "plt.plot(latent,latent1,color='black',label='Harry Potter and the Sorcerers Stone')\n",
    "plt.plot(latent,latent3,color='blue',label='A Briefer History of Time')\n",
    "plt.ylim(-1,1.2)\n",
    "plt.legend(fontsize=10,loc=2)\n",
    "plt.show()"
   ]
  },
  {
   "cell_type": "markdown",
   "id": "ca95b2cb",
   "metadata": {
    "id": "ca95b2cb"
   },
   "source": [
    "### 6.2 Latent Factor Visualization 2 (Latent factor similarity across different genres)"
   ]
  },
  {
   "cell_type": "code",
   "execution_count": 33,
   "id": "922fdec0",
   "metadata": {
    "id": "922fdec0"
   },
   "outputs": [],
   "source": [
    "df_enriched=pd.read_csv('data/books_enriched.csv')"
   ]
  },
  {
   "cell_type": "code",
   "execution_count": 34,
   "id": "8b14838c",
   "metadata": {
    "id": "8b14838c"
   },
   "outputs": [],
   "source": [
    "count={'young-adult':[],'fiction':[],\"fantasy\":[],'science-fiction':[],'romance':[],'classics':[],'paranormal':[],\n",
    "        'historical-fiction':[],'contemporary':[],'mystery':[],'suspense':[],'crime':[],'nonfiction':[],'biography':[],\n",
    "        'memoir':[],'thriller':[],'travel':[],\n",
    "         'poetry':[],'chick-lit':[],'art':[],'music':[],'humor-and-comedy':[],\n",
    "        'books':[],'sports':[],'history':[],'science':[],'horror':[],'christian':[],\n",
    "      'cookbooks':[],'religion':[],'gay-and-lesbian':[],'graphic-novels':[],'business':[],'self-help':[],'manga':[],\n",
    "       'comics':[],'spirituality':[],'psychology':[],'philosophy':[]}\n",
    "        "
   ]
  },
  {
   "cell_type": "code",
   "execution_count": 35,
   "id": "22c2053f",
   "metadata": {
    "id": "22c2053f"
   },
   "outputs": [],
   "source": [
    "for i in range(len(df_enriched.iloc[:,1])):\n",
    "    for j in count.keys():\n",
    "        if j in df_enriched['genres'][i]:\n",
    "            count[j].append(df_enriched['book_id'][i])"
   ]
  },
  {
   "cell_type": "code",
   "execution_count": 36,
   "id": "ff9c0927",
   "metadata": {
    "id": "ff9c0927"
   },
   "outputs": [],
   "source": [
    "counta={}\n",
    "for key,item in count.items():\n",
    "    #if key=='fantasy':\n",
    "        #break\n",
    "    average_latent_for_genre=[]\n",
    "    for k in range(100):\n",
    "    \n",
    "        sumup=0\n",
    "        for j in item:\n",
    "            \n",
    "            sumup+=book_simi.iloc[j-1,k]\n",
    "        average_latent_for_genre.append(sumup/len(item))\n",
    "    counta[key]=average_latent_for_genre"
   ]
  },
  {
   "cell_type": "code",
   "execution_count": 49,
   "id": "a8caa005",
   "metadata": {
    "id": "a8caa005"
   },
   "outputs": [],
   "source": [
    "feature=[]\n",
    "for key,item in counta.items():\n",
    "    feature.append(item)\n",
    "# print(feature)"
   ]
  },
  {
   "cell_type": "code",
   "execution_count": 50,
   "id": "db29ec79",
   "metadata": {
    "id": "db29ec79"
   },
   "outputs": [],
   "source": [
    "#project to 2 dimension\n",
    "from sklearn.decomposition import PCA \n",
    "pca = PCA(2) \n",
    "pca.fit(feature)\n",
    "feature_after=pca.transform(feature)"
   ]
  },
  {
   "cell_type": "code",
   "execution_count": 51,
   "id": "9985eed3",
   "metadata": {
    "colab": {
     "base_uri": "https://localhost:8080/",
     "height": 880
    },
    "id": "9985eed3",
    "outputId": "dd944ceb-dee1-4fea-8f1f-feac9038ee09"
   },
   "outputs": [
    {
     "data": {
      "text/plain": [
       "5"
      ]
     },
     "execution_count": 51,
     "metadata": {},
     "output_type": "execute_result"
    },
    {
     "data": {
      "image/png": "[encoded data removed]",
      "text/plain": [
       "<Figure size 1080x1080 with 1 Axes>"
      ]
     },
     "metadata": {},
     "output_type": "display_data"
    }
   ],
   "source": [
    "label=list(counta.keys())\n",
    "fig,ax= plt.subplots(figsize=(15,15))\n",
    "#ax = Axes3D(fig)\n",
    "for i in range(len(feature_after)):\n",
    "    ax.scatter(feature_after[i][0],feature_after[i][1])\n",
    "adjust_text([plt.text(feature_after[i][0],feature_after[i][1],label[i],fontsize=10) for i in range(len(feature)-9)])\n",
    "adjust_text([plt.text(feature_after[i][0],feature_after[i][1],label[i],fontsize=20,color='r') for i in range(len(feature)-9,len(feature))])\n"
   ]
  },
  {
   "cell_type": "markdown",
   "id": "rZ2UXpQN1oST",
   "metadata": {
    "id": "rZ2UXpQN1oST"
   },
   "source": [
    "## 7 Combining results from multiple inputs"
   ]
  },
  {
   "cell_type": "code",
   "execution_count": 52,
   "id": "cbfc1157-6372-49d3-bde6-6f8089a87ec3",
   "metadata": {
    "id": "cbfc1157-6372-49d3-bde6-6f8089a87ec3"
   },
   "outputs": [],
   "source": [
    "df = pd.read_csv(\"data/books_enriched.csv\", encoding='utf8')\n",
    "\n",
    "# Results from MostPop Model\n",
    "most_pop = pd.read_csv(\"data/most_pop.csv\")\n",
    "\n",
    "# Results from CDL model\n",
    "df_recommend_by_user = pd.read_csv(\"data/recommend_by_user.csv\", index_col=\"user_id\",               \n",
    "                                   converters={\"recommended_books\": literal_eval})\n",
    "\n",
    "# Results from latent factor similarity using CDL model\n",
    "df_recommend_by_book = pd.read_csv(\"data/recommend_by_book.csv\", index_col=\"book_id\",\n",
    "                                   converters={\"recommended_books\": literal_eval})\n"
   ]
  },
  {
   "cell_type": "code",
   "execution_count": 53,
   "id": "2fcbcfbd-3ec7-44d6-bc5c-949815a247bb",
   "metadata": {
    "id": "2fcbcfbd-3ec7-44d6-bc5c-949815a247bb"
   },
   "outputs": [],
   "source": [
    "def combine(lst1, lst2, lst3=False):\n",
    "    \"\"\"\n",
    "    If 2 inputs given, return 3 lists\n",
    "    1) Similar recommendation in both list\n",
    "    2) recommendation based on input 1\n",
    "    3) recommendation based on input 2\n",
    "\n",
    "    Similar concept for 3 inputs\n",
    "    \"\"\"\n",
    "\n",
    "    if lst3:\n",
    "        similar = list(set(lst1) & set(lst2) & set(lst3))\n",
    "        remain_count = (rec_size - len(similar)) // 3\n",
    "        remain1 = [i for i in lst1 if i not in similar][:remain_count]\n",
    "        remain2 = [i for i in lst2 if i not in similar][:remain_count]\n",
    "        remain3 = [i for i in lst3 if i not in similar][:remain_count]\n",
    "        return similar, remain1, remain2, remain3\n",
    "    else:\n",
    "        similar = list(set(lst1) & set(lst2))\n",
    "        remain_count = (rec_size - len(similar)) // 2\n",
    "        remain1 = [i for i in lst1 if i not in similar][:remain_count]\n",
    "        remain2 = [i for i in lst2 if i not in similar][:remain_count]\n",
    "        return similar, remain1, remain2"
   ]
  },
  {
   "cell_type": "markdown",
   "id": "JkWXg8mZ1zYO",
   "metadata": {
    "id": "JkWXg8mZ1zYO"
   },
   "source": [
    "7.1 List of recommendations in sections using results from different models when multiple inputs given"
   ]
  },
  {
   "cell_type": "code",
   "execution_count": 54,
   "id": "7e64642e-0210-47ba-8b97-aff581e374e5",
   "metadata": {
    "colab": {
     "base_uri": "https://localhost:8080/"
    },
    "id": "7e64642e-0210-47ba-8b97-aff581e374e5",
    "outputId": "b07df3ba-6b6e-4f31-efb5-68eb3f49f690"
   },
   "outputs": [
    {
     "name": "stdout",
     "output_type": "stream",
     "text": [
      "Top Recommendations: [1572, 766]\n",
      "Recommended based on book similarity to 'Ghost World': [1315, 490, 828, 2451, 1265, 3635, 2766, 1380, 2386, 3849, 1146, 1370, 365, 5019, 4064, 735]\n",
      "Recommended based on most pop book in horror genre: [488, 585, 2353, 3395, 3082, 1183, 2093, 168, 512, 1895, 1451, 1419, 3660, 889, 987, 1352]\n",
      "Recommended based on user profile: [763, 6704, 1370, 198, 828, 72, 490, 2508, 168, 167, 2145, 5024, 2722, 1265, 237, 2129]\n",
      "Total # of recommendations: 50\n"
     ]
    }
   ],
   "source": [
    "rec_size = 50\n",
    "title = \"Ghost World\"\n",
    "user_id = 999\n",
    "genre = \"horror\"\n",
    "\n",
    "book_id = df[df[\"original_title\"].str.contains(title, case=False)].book_id.values[0]\n",
    "book_mask = df_recommend_by_book.loc[[book_id]].recommended_books.values[0]\n",
    "user_mask = df_recommend_by_user.loc[[int(user_id)]].recommended_books.values[0]\n",
    "genre_mask = list(most_pop[most_pop.genres.str.contains(genre)].book_id)[:rec_size]\n",
    "combine_lst, book_lst, user_lst, genre_lst = combine(book_mask, user_mask, genre_mask)\n",
    "\n",
    "print(f\"Top Recommendations: {combine_lst}\")\n",
    "print(f\"Recommended based on book similarity to '{title}': {book_lst}\")\n",
    "print(f\"Recommended based on most pop book in {genre} genre: {genre_lst}\")\n",
    "print(f\"Recommended based on user profile: {user_lst}\")\n",
    "\n",
    "print(f\"Total # of recommendations: {len(combine_lst + book_lst + genre_lst + user_lst)}\")"
   ]
  },
  {
   "cell_type": "code",
   "execution_count": 48,
   "id": "c3e62c5b-5d29-426e-a29b-642ffbe5243a",
   "metadata": {
    "id": "c3e62c5b-5d29-426e-a29b-642ffbe5243a"
   },
   "outputs": [],
   "source": []
  },
  {
   "cell_type": "code",
   "execution_count": 42,
   "id": "b80ed512-4b15-4062-95d7-1dafaae416df",
   "metadata": {
    "id": "b80ed512-4b15-4062-95d7-1dafaae416df"
   },
   "outputs": [],
   "source": []
  },
  {
   "cell_type": "code",
   "execution_count": 42,
   "id": "ca301468-ecb5-4013-a0cb-72f83d259f36",
   "metadata": {
    "id": "ca301468-ecb5-4013-a0cb-72f83d259f36"
   },
   "outputs": [],
   "source": []
  },
  {
   "cell_type": "code",
   "execution_count": 42,
   "id": "9a7b13a0-bca5-4fc9-ad09-50e72b5e9cc5",
   "metadata": {
    "id": "9a7b13a0-bca5-4fc9-ad09-50e72b5e9cc5"
   },
   "outputs": [],
   "source": []
  }
 ],
 "metadata": {
  "colab": {
   "collapsed_sections": [],
   "name": "Consolidated Project Codes.ipynb",
   "provenance": []
  },
  "kernelspec": {
   "display_name": "Python 3 (ipykernel)",
   "language": "python",
   "name": "python3"
  },
  "language_info": {
   "codemirror_mode": {
    "name": "ipython",
    "version": 3
   },
   "file_extension": ".py",
   "mimetype": "text/x-python",
   "name": "python",
   "nbconvert_exporter": "python",
   "pygments_lexer": "ipython3",
   "version": "3.9.7"
  },
  "widgets": {
   "application/vnd.jupyter.widget-state+json": {
    "05c8ee9061cc4adf85a525ea0945229b": {
     "model_module": "@jupyter-widgets/controls",
     "model_module_version": "1.5.0",
     "model_name": "FloatProgressModel",
     "state": {
      "_dom_classes": [],
      "_model_module": "@jupyter-widgets/controls",
      "_model_module_version": "1.5.0",
      "_model_name": "FloatProgressModel",
      "_view_count": null,
      "_view_module": "@jupyter-widgets/controls",
      "_view_module_version": "1.5.0",
      "_view_name": "ProgressView",
      "bar_style": "success",
      "description": "",
      "description_tooltip": null,
      "layout": "IPY_MODEL_475c5fd8f78a44308807ad438f1edafb",
      "max": 53424,
      "min": 0,
      "orientation": "horizontal",
      "style": "IPY_MODEL_0fa826298bf64143a44933f8a762c443",
      "value": 53424
     }
    },
    "09aa9693548a4d2383290bd443a2a9cc": {
     "model_module": "@jupyter-widgets/base",
     "model_module_version": "1.2.0",
     "model_name": "LayoutModel",
     "state": {
      "_model_module": "@jupyter-widgets/base",
      "_model_module_version": "1.2.0",
      "_model_name": "LayoutModel",
      "_view_count": null,
      "_view_module": "@jupyter-widgets/base",
      "_view_module_version": "1.2.0",
      "_view_name": "LayoutView",
      "align_content": null,
      "align_items": null,
      "align_self": null,
      "border": null,
      "bottom": null,
      "display": null,
      "flex": null,
      "flex_flow": null,
      "grid_area": null,
      "grid_auto_columns": null,
      "grid_auto_flow": null,
      "grid_auto_rows": null,
      "grid_column": null,
      "grid_gap": null,
      "grid_row": null,
      "grid_template_areas": null,
      "grid_template_columns": null,
      "grid_template_rows": null,
      "height": null,
      "justify_content": null,
      "justify_items": null,
      "left": null,
      "margin": null,
      "max_height": null,
      "max_width": null,
      "min_height": null,
      "min_width": null,
      "object_fit": null,
      "object_position": null,
      "order": null,
      "overflow": null,
      "overflow_x": null,
      "overflow_y": null,
      "padding": null,
      "right": null,
      "top": null,
      "visibility": null,
      "width": null
     }
    },
    "0fa826298bf64143a44933f8a762c443": {
     "model_module": "@jupyter-widgets/controls",
     "model_module_version": "1.5.0",
     "model_name": "ProgressStyleModel",
     "state": {
      "_model_module": "@jupyter-widgets/controls",
      "_model_module_version": "1.5.0",
      "_model_name": "ProgressStyleModel",
      "_view_count": null,
      "_view_module": "@jupyter-widgets/base",
      "_view_module_version": "1.2.0",
      "_view_name": "StyleView",
      "bar_color": null,
      "description_width": ""
     }
    },
    "114bf985f9aa4b0a9de97611af13b07e": {
     "model_module": "@jupyter-widgets/base",
     "model_module_version": "1.2.0",
     "model_name": "LayoutModel",
     "state": {
      "_model_module": "@jupyter-widgets/base",
      "_model_module_version": "1.2.0",
      "_model_name": "LayoutModel",
      "_view_count": null,
      "_view_module": "@jupyter-widgets/base",
      "_view_module_version": "1.2.0",
      "_view_name": "LayoutView",
      "align_content": null,
      "align_items": null,
      "align_self": null,
      "border": null,
      "bottom": null,
      "display": null,
      "flex": null,
      "flex_flow": null,
      "grid_area": null,
      "grid_auto_columns": null,
      "grid_auto_flow": null,
      "grid_auto_rows": null,
      "grid_column": null,
      "grid_gap": null,
      "grid_row": null,
      "grid_template_areas": null,
      "grid_template_columns": null,
      "grid_template_rows": null,
      "height": null,
      "justify_content": null,
      "justify_items": null,
      "left": null,
      "margin": null,
      "max_height": null,
      "max_width": null,
      "min_height": null,
      "min_width": null,
      "object_fit": null,
      "object_position": null,
      "order": null,
      "overflow": null,
      "overflow_x": null,
      "overflow_y": null,
      "padding": null,
      "right": null,
      "top": null,
      "visibility": null,
      "width": null
     }
    },
    "17634357af6d450dacfb6cbeb73b97ff": {
     "model_module": "@jupyter-widgets/controls",
     "model_module_version": "1.5.0",
     "model_name": "HBoxModel",
     "state": {
      "_dom_classes": [],
      "_model_module": "@jupyter-widgets/controls",
      "_model_module_version": "1.5.0",
      "_model_name": "HBoxModel",
      "_view_count": null,
      "_view_module": "@jupyter-widgets/controls",
      "_view_module_version": "1.5.0",
      "_view_name": "HBoxView",
      "box_style": "",
      "children": [
       "IPY_MODEL_d7df98fefa564bdaa1aaf67e443d7e4a",
       "IPY_MODEL_4cbe9f73e0184c89b7a718bb6f7280a5",
       "IPY_MODEL_3457e06763c040629f9d4f0de33e73d5"
      ],
      "layout": "IPY_MODEL_7485ea060f8d4f3d8fce022a7fcb2897"
     }
    },
    "1887517fbda24c518be24b44d6d6b497": {
     "model_module": "@jupyter-widgets/base",
     "model_module_version": "1.2.0",
     "model_name": "LayoutModel",
     "state": {
      "_model_module": "@jupyter-widgets/base",
      "_model_module_version": "1.2.0",
      "_model_name": "LayoutModel",
      "_view_count": null,
      "_view_module": "@jupyter-widgets/base",
      "_view_module_version": "1.2.0",
      "_view_name": "LayoutView",
      "align_content": null,
      "align_items": null,
      "align_self": null,
      "border": null,
      "bottom": null,
      "display": null,
      "flex": null,
      "flex_flow": null,
      "grid_area": null,
      "grid_auto_columns": null,
      "grid_auto_flow": null,
      "grid_auto_rows": null,
      "grid_column": null,
      "grid_gap": null,
      "grid_row": null,
      "grid_template_areas": null,
      "grid_template_columns": null,
      "grid_template_rows": null,
      "height": null,
      "justify_content": null,
      "justify_items": null,
      "left": null,
      "margin": null,
      "max_height": null,
      "max_width": null,
      "min_height": null,
      "min_width": null,
      "object_fit": null,
      "object_position": null,
      "order": null,
      "overflow": null,
      "overflow_x": null,
      "overflow_y": null,
      "padding": null,
      "right": null,
      "top": null,
      "visibility": null,
      "width": null
     }
    },
    "19cd67a3b9754f7bb91c29962de49b32": {
     "model_module": "@jupyter-widgets/base",
     "model_module_version": "1.2.0",
     "model_name": "LayoutModel",
     "state": {
      "_model_module": "@jupyter-widgets/base",
      "_model_module_version": "1.2.0",
      "_model_name": "LayoutModel",
      "_view_count": null,
      "_view_module": "@jupyter-widgets/base",
      "_view_module_version": "1.2.0",
      "_view_name": "LayoutView",
      "align_content": null,
      "align_items": null,
      "align_self": null,
      "border": null,
      "bottom": null,
      "display": null,
      "flex": null,
      "flex_flow": null,
      "grid_area": null,
      "grid_auto_columns": null,
      "grid_auto_flow": null,
      "grid_auto_rows": null,
      "grid_column": null,
      "grid_gap": null,
      "grid_row": null,
      "grid_template_areas": null,
      "grid_template_columns": null,
      "grid_template_rows": null,
      "height": null,
      "justify_content": null,
      "justify_items": null,
      "left": null,
      "margin": null,
      "max_height": null,
      "max_width": null,
      "min_height": null,
      "min_width": null,
      "object_fit": null,
      "object_position": null,
      "order": null,
      "overflow": null,
      "overflow_x": null,
      "overflow_y": null,
      "padding": null,
      "right": null,
      "top": null,
      "visibility": null,
      "width": null
     }
    },
    "1c5f3e6ac8524c739bf93d2791ac1ef5": {
     "model_module": "@jupyter-widgets/base",
     "model_module_version": "1.2.0",
     "model_name": "LayoutModel",
     "state": {
      "_model_module": "@jupyter-widgets/base",
      "_model_module_version": "1.2.0",
      "_model_name": "LayoutModel",
      "_view_count": null,
      "_view_module": "@jupyter-widgets/base",
      "_view_module_version": "1.2.0",
      "_view_name": "LayoutView",
      "align_content": null,
      "align_items": null,
      "align_self": null,
      "border": null,
      "bottom": null,
      "display": null,
      "flex": null,
      "flex_flow": null,
      "grid_area": null,
      "grid_auto_columns": null,
      "grid_auto_flow": null,
      "grid_auto_rows": null,
      "grid_column": null,
      "grid_gap": null,
      "grid_row": null,
      "grid_template_areas": null,
      "grid_template_columns": null,
      "grid_template_rows": null,
      "height": null,
      "justify_content": null,
      "justify_items": null,
      "left": null,
      "margin": null,
      "max_height": null,
      "max_width": null,
      "min_height": null,
      "min_width": null,
      "object_fit": null,
      "object_position": null,
      "order": null,
      "overflow": null,
      "overflow_x": null,
      "overflow_y": null,
      "padding": null,
      "right": null,
      "top": null,
      "visibility": null,
      "width": null
     }
    },
    "1cad79f7e6424422adf469a13c4eeeed": {
     "model_module": "@jupyter-widgets/controls",
     "model_module_version": "1.5.0",
     "model_name": "DescriptionStyleModel",
     "state": {
      "_model_module": "@jupyter-widgets/controls",
      "_model_module_version": "1.5.0",
      "_model_name": "DescriptionStyleModel",
      "_view_count": null,
      "_view_module": "@jupyter-widgets/base",
      "_view_module_version": "1.2.0",
      "_view_name": "StyleView",
      "description_width": ""
     }
    },
    "21cd264e9fae4e70becb5afc0e8e76be": {
     "model_module": "@jupyter-widgets/controls",
     "model_module_version": "1.5.0",
     "model_name": "FloatProgressModel",
     "state": {
      "_dom_classes": [],
      "_model_module": "@jupyter-widgets/controls",
      "_model_module_version": "1.5.0",
      "_model_name": "FloatProgressModel",
      "_view_count": null,
      "_view_module": "@jupyter-widgets/controls",
      "_view_module_version": "1.5.0",
      "_view_name": "ProgressView",
      "bar_style": "success",
      "description": "",
      "description_tooltip": null,
      "layout": "IPY_MODEL_1887517fbda24c518be24b44d6d6b497",
      "max": 60,
      "min": 0,
      "orientation": "horizontal",
      "style": "IPY_MODEL_cc614e9401eb44e6ace7ca32e830cabd",
      "value": 60
     }
    },
    "2350ee90d4574021b75e7e9920b33a86": {
     "model_module": "@jupyter-widgets/base",
     "model_module_version": "1.2.0",
     "model_name": "LayoutModel",
     "state": {
      "_model_module": "@jupyter-widgets/base",
      "_model_module_version": "1.2.0",
      "_model_name": "LayoutModel",
      "_view_count": null,
      "_view_module": "@jupyter-widgets/base",
      "_view_module_version": "1.2.0",
      "_view_name": "LayoutView",
      "align_content": null,
      "align_items": null,
      "align_self": null,
      "border": null,
      "bottom": null,
      "display": null,
      "flex": null,
      "flex_flow": null,
      "grid_area": null,
      "grid_auto_columns": null,
      "grid_auto_flow": null,
      "grid_auto_rows": null,
      "grid_column": null,
      "grid_gap": null,
      "grid_row": null,
      "grid_template_areas": null,
      "grid_template_columns": null,
      "grid_template_rows": null,
      "height": null,
      "justify_content": null,
      "justify_items": null,
      "left": null,
      "margin": null,
      "max_height": null,
      "max_width": null,
      "min_height": null,
      "min_width": null,
      "object_fit": null,
      "object_position": null,
      "order": null,
      "overflow": null,
      "overflow_x": null,
      "overflow_y": null,
      "padding": null,
      "right": null,
      "top": null,
      "visibility": null,
      "width": null
     }
    },
    "23def9272f56402286862d781032c0ee": {
     "model_module": "@jupyter-widgets/base",
     "model_module_version": "1.2.0",
     "model_name": "LayoutModel",
     "state": {
      "_model_module": "@jupyter-widgets/base",
      "_model_module_version": "1.2.0",
      "_model_name": "LayoutModel",
      "_view_count": null,
      "_view_module": "@jupyter-widgets/base",
      "_view_module_version": "1.2.0",
      "_view_name": "LayoutView",
      "align_content": null,
      "align_items": null,
      "align_self": null,
      "border": null,
      "bottom": null,
      "display": null,
      "flex": null,
      "flex_flow": null,
      "grid_area": null,
      "grid_auto_columns": null,
      "grid_auto_flow": null,
      "grid_auto_rows": null,
      "grid_column": null,
      "grid_gap": null,
      "grid_row": null,
      "grid_template_areas": null,
      "grid_template_columns": null,
      "grid_template_rows": null,
      "height": null,
      "justify_content": null,
      "justify_items": null,
      "left": null,
      "margin": null,
      "max_height": null,
      "max_width": null,
      "min_height": null,
      "min_width": null,
      "object_fit": null,
      "object_position": null,
      "order": null,
      "overflow": null,
      "overflow_x": null,
      "overflow_y": null,
      "padding": null,
      "right": null,
      "top": null,
      "visibility": null,
      "width": null
     }
    },
    "287ffdfef51c44ea8f029d6c02464c75": {
     "model_module": "@jupyter-widgets/controls",
     "model_module_version": "1.5.0",
     "model_name": "FloatProgressModel",
     "state": {
      "_dom_classes": [],
      "_model_module": "@jupyter-widgets/controls",
      "_model_module_version": "1.5.0",
      "_model_name": "FloatProgressModel",
      "_view_count": null,
      "_view_module": "@jupyter-widgets/controls",
      "_view_module_version": "1.5.0",
      "_view_name": "ProgressView",
      "bar_style": "success",
      "description": "",
      "description_tooltip": null,
      "layout": "IPY_MODEL_2350ee90d4574021b75e7e9920b33a86",
      "max": 50,
      "min": 0,
      "orientation": "horizontal",
      "style": "IPY_MODEL_4a5ffec40ef5402695e098cabd1386a0",
      "value": 50
     }
    },
    "2ab74caced084ba292ea59920515a144": {
     "model_module": "@jupyter-widgets/controls",
     "model_module_version": "1.5.0",
     "model_name": "DescriptionStyleModel",
     "state": {
      "_model_module": "@jupyter-widgets/controls",
      "_model_module_version": "1.5.0",
      "_model_name": "DescriptionStyleModel",
      "_view_count": null,
      "_view_module": "@jupyter-widgets/base",
      "_view_module_version": "1.2.0",
      "_view_name": "StyleView",
      "description_width": ""
     }
    },
    "2c244840607e4015a2481215bfa3fc68": {
     "model_module": "@jupyter-widgets/base",
     "model_module_version": "1.2.0",
     "model_name": "LayoutModel",
     "state": {
      "_model_module": "@jupyter-widgets/base",
      "_model_module_version": "1.2.0",
      "_model_name": "LayoutModel",
      "_view_count": null,
      "_view_module": "@jupyter-widgets/base",
      "_view_module_version": "1.2.0",
      "_view_name": "LayoutView",
      "align_content": null,
      "align_items": null,
      "align_self": null,
      "border": null,
      "bottom": null,
      "display": null,
      "flex": null,
      "flex_flow": null,
      "grid_area": null,
      "grid_auto_columns": null,
      "grid_auto_flow": null,
      "grid_auto_rows": null,
      "grid_column": null,
      "grid_gap": null,
      "grid_row": null,
      "grid_template_areas": null,
      "grid_template_columns": null,
      "grid_template_rows": null,
      "height": null,
      "justify_content": null,
      "justify_items": null,
      "left": null,
      "margin": null,
      "max_height": null,
      "max_width": null,
      "min_height": null,
      "min_width": null,
      "object_fit": null,
      "object_position": null,
      "order": null,
      "overflow": null,
      "overflow_x": null,
      "overflow_y": null,
      "padding": null,
      "right": null,
      "top": null,
      "visibility": null,
      "width": null
     }
    },
    "3457e06763c040629f9d4f0de33e73d5": {
     "model_module": "@jupyter-widgets/controls",
     "model_module_version": "1.5.0",
     "model_name": "HTMLModel",
     "state": {
      "_dom_classes": [],
      "_model_module": "@jupyter-widgets/controls",
      "_model_module_version": "1.5.0",
      "_model_name": "HTMLModel",
      "_view_count": null,
      "_view_module": "@jupyter-widgets/controls",
      "_view_module_version": "1.5.0",
      "_view_name": "HTMLView",
      "description": "",
      "description_tooltip": null,
      "layout": "IPY_MODEL_c8bbc67a81ce4119ba89ee29cd2282f6",
      "placeholder": "​",
      "style": "IPY_MODEL_4a789fa6e6754965a4aeb1b07791c3e8",
      "value": " 100/100 [29:31&lt;00:00, 17.15s/it, loss=1.27e+3]"
     }
    },
    "38d87dc9ef224487ab723d9bb2394aab": {
     "model_module": "@jupyter-widgets/controls",
     "model_module_version": "1.5.0",
     "model_name": "HTMLModel",
     "state": {
      "_dom_classes": [],
      "_model_module": "@jupyter-widgets/controls",
      "_model_module_version": "1.5.0",
      "_model_name": "HTMLModel",
      "_view_count": null,
      "_view_module": "@jupyter-widgets/controls",
      "_view_module_version": "1.5.0",
      "_view_name": "HTMLView",
      "description": "",
      "description_tooltip": null,
      "layout": "IPY_MODEL_8f080beddbe246f6b4796984a93189cc",
      "placeholder": "​",
      "style": "IPY_MODEL_88190339039b4a68b9a7d821dba002a0",
      "value": " 50/50 [17:49&lt;00:00, 21.38s/it, cf_loss=5.7e+6, lda_likelihood=-1.46e+6]"
     }
    },
    "3b6ad22d1b584f7bbe94eb0b13824114": {
     "model_module": "@jupyter-widgets/controls",
     "model_module_version": "1.5.0",
     "model_name": "HTMLModel",
     "state": {
      "_dom_classes": [],
      "_model_module": "@jupyter-widgets/controls",
      "_model_module_version": "1.5.0",
      "_model_name": "HTMLModel",
      "_view_count": null,
      "_view_module": "@jupyter-widgets/controls",
      "_view_module_version": "1.5.0",
      "_view_name": "HTMLView",
      "description": "",
      "description_tooltip": null,
      "layout": "IPY_MODEL_923f929e5bb2409e9282505a29ab1789",
      "placeholder": "​",
      "style": "IPY_MODEL_1cad79f7e6424422adf469a13c4eeeed",
      "value": "100%"
     }
    },
    "3b95cf662fa44e7a8849f2283900683b": {
     "model_module": "@jupyter-widgets/base",
     "model_module_version": "1.2.0",
     "model_name": "LayoutModel",
     "state": {
      "_model_module": "@jupyter-widgets/base",
      "_model_module_version": "1.2.0",
      "_model_name": "LayoutModel",
      "_view_count": null,
      "_view_module": "@jupyter-widgets/base",
      "_view_module_version": "1.2.0",
      "_view_name": "LayoutView",
      "align_content": null,
      "align_items": null,
      "align_self": null,
      "border": null,
      "bottom": null,
      "display": null,
      "flex": null,
      "flex_flow": null,
      "grid_area": null,
      "grid_auto_columns": null,
      "grid_auto_flow": null,
      "grid_auto_rows": null,
      "grid_column": null,
      "grid_gap": null,
      "grid_row": null,
      "grid_template_areas": null,
      "grid_template_columns": null,
      "grid_template_rows": null,
      "height": null,
      "justify_content": null,
      "justify_items": null,
      "left": null,
      "margin": null,
      "max_height": null,
      "max_width": null,
      "min_height": null,
      "min_width": null,
      "object_fit": null,
      "object_position": null,
      "order": null,
      "overflow": null,
      "overflow_x": null,
      "overflow_y": null,
      "padding": null,
      "right": null,
      "top": null,
      "visibility": null,
      "width": null
     }
    },
    "463d4599e8f14fcd9c48c2806143cd92": {
     "model_module": "@jupyter-widgets/controls",
     "model_module_version": "1.5.0",
     "model_name": "DescriptionStyleModel",
     "state": {
      "_model_module": "@jupyter-widgets/controls",
      "_model_module_version": "1.5.0",
      "_model_name": "DescriptionStyleModel",
      "_view_count": null,
      "_view_module": "@jupyter-widgets/base",
      "_view_module_version": "1.2.0",
      "_view_name": "StyleView",
      "description_width": ""
     }
    },
    "465cde7973f242fea0101060c45136c2": {
     "model_module": "@jupyter-widgets/controls",
     "model_module_version": "1.5.0",
     "model_name": "ProgressStyleModel",
     "state": {
      "_model_module": "@jupyter-widgets/controls",
      "_model_module_version": "1.5.0",
      "_model_name": "ProgressStyleModel",
      "_view_count": null,
      "_view_module": "@jupyter-widgets/base",
      "_view_module_version": "1.2.0",
      "_view_name": "StyleView",
      "bar_color": null,
      "description_width": ""
     }
    },
    "475c5fd8f78a44308807ad438f1edafb": {
     "model_module": "@jupyter-widgets/base",
     "model_module_version": "1.2.0",
     "model_name": "LayoutModel",
     "state": {
      "_model_module": "@jupyter-widgets/base",
      "_model_module_version": "1.2.0",
      "_model_name": "LayoutModel",
      "_view_count": null,
      "_view_module": "@jupyter-widgets/base",
      "_view_module_version": "1.2.0",
      "_view_name": "LayoutView",
      "align_content": null,
      "align_items": null,
      "align_self": null,
      "border": null,
      "bottom": null,
      "display": null,
      "flex": null,
      "flex_flow": null,
      "grid_area": null,
      "grid_auto_columns": null,
      "grid_auto_flow": null,
      "grid_auto_rows": null,
      "grid_column": null,
      "grid_gap": null,
      "grid_row": null,
      "grid_template_areas": null,
      "grid_template_columns": null,
      "grid_template_rows": null,
      "height": null,
      "justify_content": null,
      "justify_items": null,
      "left": null,
      "margin": null,
      "max_height": null,
      "max_width": null,
      "min_height": null,
      "min_width": null,
      "object_fit": null,
      "object_position": null,
      "order": null,
      "overflow": null,
      "overflow_x": null,
      "overflow_y": null,
      "padding": null,
      "right": null,
      "top": null,
      "visibility": null,
      "width": null
     }
    },
    "47af3ca453964dc4a54f8598ec2d0f74": {
     "model_module": "@jupyter-widgets/controls",
     "model_module_version": "1.5.0",
     "model_name": "DescriptionStyleModel",
     "state": {
      "_model_module": "@jupyter-widgets/controls",
      "_model_module_version": "1.5.0",
      "_model_name": "DescriptionStyleModel",
      "_view_count": null,
      "_view_module": "@jupyter-widgets/base",
      "_view_module_version": "1.2.0",
      "_view_name": "StyleView",
      "description_width": ""
     }
    },
    "47eb9bc8319d479fa7767078c5f76d84": {
     "model_module": "@jupyter-widgets/base",
     "model_module_version": "1.2.0",
     "model_name": "LayoutModel",
     "state": {
      "_model_module": "@jupyter-widgets/base",
      "_model_module_version": "1.2.0",
      "_model_name": "LayoutModel",
      "_view_count": null,
      "_view_module": "@jupyter-widgets/base",
      "_view_module_version": "1.2.0",
      "_view_name": "LayoutView",
      "align_content": null,
      "align_items": null,
      "align_self": null,
      "border": null,
      "bottom": null,
      "display": null,
      "flex": null,
      "flex_flow": null,
      "grid_area": null,
      "grid_auto_columns": null,
      "grid_auto_flow": null,
      "grid_auto_rows": null,
      "grid_column": null,
      "grid_gap": null,
      "grid_row": null,
      "grid_template_areas": null,
      "grid_template_columns": null,
      "grid_template_rows": null,
      "height": null,
      "justify_content": null,
      "justify_items": null,
      "left": null,
      "margin": null,
      "max_height": null,
      "max_width": null,
      "min_height": null,
      "min_width": null,
      "object_fit": null,
      "object_position": null,
      "order": null,
      "overflow": null,
      "overflow_x": null,
      "overflow_y": null,
      "padding": null,
      "right": null,
      "top": null,
      "visibility": null,
      "width": null
     }
    },
    "49efa87e28ca451592f1e4e44e49fcc0": {
     "model_module": "@jupyter-widgets/controls",
     "model_module_version": "1.5.0",
     "model_name": "ProgressStyleModel",
     "state": {
      "_model_module": "@jupyter-widgets/controls",
      "_model_module_version": "1.5.0",
      "_model_name": "ProgressStyleModel",
      "_view_count": null,
      "_view_module": "@jupyter-widgets/base",
      "_view_module_version": "1.2.0",
      "_view_name": "StyleView",
      "bar_color": null,
      "description_width": ""
     }
    },
    "4a5ffec40ef5402695e098cabd1386a0": {
     "model_module": "@jupyter-widgets/controls",
     "model_module_version": "1.5.0",
     "model_name": "ProgressStyleModel",
     "state": {
      "_model_module": "@jupyter-widgets/controls",
      "_model_module_version": "1.5.0",
      "_model_name": "ProgressStyleModel",
      "_view_count": null,
      "_view_module": "@jupyter-widgets/base",
      "_view_module_version": "1.2.0",
      "_view_name": "StyleView",
      "bar_color": null,
      "description_width": ""
     }
    },
    "4a789fa6e6754965a4aeb1b07791c3e8": {
     "model_module": "@jupyter-widgets/controls",
     "model_module_version": "1.5.0",
     "model_name": "DescriptionStyleModel",
     "state": {
      "_model_module": "@jupyter-widgets/controls",
      "_model_module_version": "1.5.0",
      "_model_name": "DescriptionStyleModel",
      "_view_count": null,
      "_view_module": "@jupyter-widgets/base",
      "_view_module_version": "1.2.0",
      "_view_name": "StyleView",
      "description_width": ""
     }
    },
    "4cbe9f73e0184c89b7a718bb6f7280a5": {
     "model_module": "@jupyter-widgets/controls",
     "model_module_version": "1.5.0",
     "model_name": "FloatProgressModel",
     "state": {
      "_dom_classes": [],
      "_model_module": "@jupyter-widgets/controls",
      "_model_module_version": "1.5.0",
      "_model_name": "FloatProgressModel",
      "_view_count": null,
      "_view_module": "@jupyter-widgets/controls",
      "_view_module_version": "1.5.0",
      "_view_name": "ProgressView",
      "bar_style": "success",
      "description": "",
      "description_tooltip": null,
      "layout": "IPY_MODEL_19cd67a3b9754f7bb91c29962de49b32",
      "max": 100,
      "min": 0,
      "orientation": "horizontal",
      "style": "IPY_MODEL_8cb7b9a6796f4ba38d9c23bb0b3421ce",
      "value": 100
     }
    },
    "4fdabb02f4f148a8bc68f065fe05627b": {
     "model_module": "@jupyter-widgets/controls",
     "model_module_version": "1.5.0",
     "model_name": "DescriptionStyleModel",
     "state": {
      "_model_module": "@jupyter-widgets/controls",
      "_model_module_version": "1.5.0",
      "_model_name": "DescriptionStyleModel",
      "_view_count": null,
      "_view_module": "@jupyter-widgets/base",
      "_view_module_version": "1.2.0",
      "_view_name": "StyleView",
      "description_width": ""
     }
    },
    "51a98b43ef3e48f8b973bf36dbeecd63": {
     "model_module": "@jupyter-widgets/base",
     "model_module_version": "1.2.0",
     "model_name": "LayoutModel",
     "state": {
      "_model_module": "@jupyter-widgets/base",
      "_model_module_version": "1.2.0",
      "_model_name": "LayoutModel",
      "_view_count": null,
      "_view_module": "@jupyter-widgets/base",
      "_view_module_version": "1.2.0",
      "_view_name": "LayoutView",
      "align_content": null,
      "align_items": null,
      "align_self": null,
      "border": null,
      "bottom": null,
      "display": null,
      "flex": null,
      "flex_flow": null,
      "grid_area": null,
      "grid_auto_columns": null,
      "grid_auto_flow": null,
      "grid_auto_rows": null,
      "grid_column": null,
      "grid_gap": null,
      "grid_row": null,
      "grid_template_areas": null,
      "grid_template_columns": null,
      "grid_template_rows": null,
      "height": null,
      "justify_content": null,
      "justify_items": null,
      "left": null,
      "margin": null,
      "max_height": null,
      "max_width": null,
      "min_height": null,
      "min_width": null,
      "object_fit": null,
      "object_position": null,
      "order": null,
      "overflow": null,
      "overflow_x": null,
      "overflow_y": null,
      "padding": null,
      "right": null,
      "top": null,
      "visibility": null,
      "width": null
     }
    },
    "62ed222bfb1d43db8028763363fe834c": {
     "model_module": "@jupyter-widgets/base",
     "model_module_version": "1.2.0",
     "model_name": "LayoutModel",
     "state": {
      "_model_module": "@jupyter-widgets/base",
      "_model_module_version": "1.2.0",
      "_model_name": "LayoutModel",
      "_view_count": null,
      "_view_module": "@jupyter-widgets/base",
      "_view_module_version": "1.2.0",
      "_view_name": "LayoutView",
      "align_content": null,
      "align_items": null,
      "align_self": null,
      "border": null,
      "bottom": null,
      "display": null,
      "flex": null,
      "flex_flow": null,
      "grid_area": null,
      "grid_auto_columns": null,
      "grid_auto_flow": null,
      "grid_auto_rows": null,
      "grid_column": null,
      "grid_gap": null,
      "grid_row": null,
      "grid_template_areas": null,
      "grid_template_columns": null,
      "grid_template_rows": null,
      "height": null,
      "justify_content": null,
      "justify_items": null,
      "left": null,
      "margin": null,
      "max_height": null,
      "max_width": null,
      "min_height": null,
      "min_width": null,
      "object_fit": null,
      "object_position": null,
      "order": null,
      "overflow": null,
      "overflow_x": null,
      "overflow_y": null,
      "padding": null,
      "right": null,
      "top": null,
      "visibility": null,
      "width": null
     }
    },
    "6379403d02ba44aeaedea4ea563fa998": {
     "model_module": "@jupyter-widgets/controls",
     "model_module_version": "1.5.0",
     "model_name": "HTMLModel",
     "state": {
      "_dom_classes": [],
      "_model_module": "@jupyter-widgets/controls",
      "_model_module_version": "1.5.0",
      "_model_name": "HTMLModel",
      "_view_count": null,
      "_view_module": "@jupyter-widgets/controls",
      "_view_module_version": "1.5.0",
      "_view_name": "HTMLView",
      "description": "",
      "description_tooltip": null,
      "layout": "IPY_MODEL_6c1f989b1ae347c4a5be66ca9771c376",
      "placeholder": "​",
      "style": "IPY_MODEL_c60bcfddfe3b4b038884e499d8b528ca",
      "value": "100%"
     }
    },
    "6c1f989b1ae347c4a5be66ca9771c376": {
     "model_module": "@jupyter-widgets/base",
     "model_module_version": "1.2.0",
     "model_name": "LayoutModel",
     "state": {
      "_model_module": "@jupyter-widgets/base",
      "_model_module_version": "1.2.0",
      "_model_name": "LayoutModel",
      "_view_count": null,
      "_view_module": "@jupyter-widgets/base",
      "_view_module_version": "1.2.0",
      "_view_name": "LayoutView",
      "align_content": null,
      "align_items": null,
      "align_self": null,
      "border": null,
      "bottom": null,
      "display": null,
      "flex": null,
      "flex_flow": null,
      "grid_area": null,
      "grid_auto_columns": null,
      "grid_auto_flow": null,
      "grid_auto_rows": null,
      "grid_column": null,
      "grid_gap": null,
      "grid_row": null,
      "grid_template_areas": null,
      "grid_template_columns": null,
      "grid_template_rows": null,
      "height": null,
      "justify_content": null,
      "justify_items": null,
      "left": null,
      "margin": null,
      "max_height": null,
      "max_width": null,
      "min_height": null,
      "min_width": null,
      "object_fit": null,
      "object_position": null,
      "order": null,
      "overflow": null,
      "overflow_x": null,
      "overflow_y": null,
      "padding": null,
      "right": null,
      "top": null,
      "visibility": null,
      "width": null
     }
    },
    "6f2c4ede9c264294ac9823c8f5635212": {
     "model_module": "@jupyter-widgets/controls",
     "model_module_version": "1.5.0",
     "model_name": "HBoxModel",
     "state": {
      "_dom_classes": [],
      "_model_module": "@jupyter-widgets/controls",
      "_model_module_version": "1.5.0",
      "_model_name": "HBoxModel",
      "_view_count": null,
      "_view_module": "@jupyter-widgets/controls",
      "_view_module_version": "1.5.0",
      "_view_name": "HBoxView",
      "box_style": "",
      "children": [
       "IPY_MODEL_8c725e4a8585424383d88dbc4acb668c",
       "IPY_MODEL_e72ecd9b7c6e45a88eb5c094e340d4c4",
       "IPY_MODEL_7f4fb277b88c4f5f8702b1a007506979"
      ],
      "layout": "IPY_MODEL_47eb9bc8319d479fa7767078c5f76d84"
     }
    },
    "7142e258da0a4bdda091777b1a8aab85": {
     "model_module": "@jupyter-widgets/controls",
     "model_module_version": "1.5.0",
     "model_name": "DescriptionStyleModel",
     "state": {
      "_model_module": "@jupyter-widgets/controls",
      "_model_module_version": "1.5.0",
      "_model_name": "DescriptionStyleModel",
      "_view_count": null,
      "_view_module": "@jupyter-widgets/base",
      "_view_module_version": "1.2.0",
      "_view_name": "StyleView",
      "description_width": ""
     }
    },
    "7485ea060f8d4f3d8fce022a7fcb2897": {
     "model_module": "@jupyter-widgets/base",
     "model_module_version": "1.2.0",
     "model_name": "LayoutModel",
     "state": {
      "_model_module": "@jupyter-widgets/base",
      "_model_module_version": "1.2.0",
      "_model_name": "LayoutModel",
      "_view_count": null,
      "_view_module": "@jupyter-widgets/base",
      "_view_module_version": "1.2.0",
      "_view_name": "LayoutView",
      "align_content": null,
      "align_items": null,
      "align_self": null,
      "border": null,
      "bottom": null,
      "display": null,
      "flex": null,
      "flex_flow": null,
      "grid_area": null,
      "grid_auto_columns": null,
      "grid_auto_flow": null,
      "grid_auto_rows": null,
      "grid_column": null,
      "grid_gap": null,
      "grid_row": null,
      "grid_template_areas": null,
      "grid_template_columns": null,
      "grid_template_rows": null,
      "height": null,
      "justify_content": null,
      "justify_items": null,
      "left": null,
      "margin": null,
      "max_height": null,
      "max_width": null,
      "min_height": null,
      "min_width": null,
      "object_fit": null,
      "object_position": null,
      "order": null,
      "overflow": null,
      "overflow_x": null,
      "overflow_y": null,
      "padding": null,
      "right": null,
      "top": null,
      "visibility": null,
      "width": null
     }
    },
    "7a004461acbb4a2ca51aba47a29402e9": {
     "model_module": "@jupyter-widgets/controls",
     "model_module_version": "1.5.0",
     "model_name": "HBoxModel",
     "state": {
      "_dom_classes": [],
      "_model_module": "@jupyter-widgets/controls",
      "_model_module_version": "1.5.0",
      "_model_name": "HBoxModel",
      "_view_count": null,
      "_view_module": "@jupyter-widgets/controls",
      "_view_module_version": "1.5.0",
      "_view_name": "HBoxView",
      "box_style": "",
      "children": [
       "IPY_MODEL_8ef0029dbec146e08f119b2a1599ce29",
       "IPY_MODEL_05c8ee9061cc4adf85a525ea0945229b",
       "IPY_MODEL_985f4912e1a948939da37f4f92f3e645"
      ],
      "layout": "IPY_MODEL_1c5f3e6ac8524c739bf93d2791ac1ef5"
     }
    },
    "7b67470740dc463799eb717163ec22c4": {
     "model_module": "@jupyter-widgets/base",
     "model_module_version": "1.2.0",
     "model_name": "LayoutModel",
     "state": {
      "_model_module": "@jupyter-widgets/base",
      "_model_module_version": "1.2.0",
      "_model_name": "LayoutModel",
      "_view_count": null,
      "_view_module": "@jupyter-widgets/base",
      "_view_module_version": "1.2.0",
      "_view_name": "LayoutView",
      "align_content": null,
      "align_items": null,
      "align_self": null,
      "border": null,
      "bottom": null,
      "display": null,
      "flex": null,
      "flex_flow": null,
      "grid_area": null,
      "grid_auto_columns": null,
      "grid_auto_flow": null,
      "grid_auto_rows": null,
      "grid_column": null,
      "grid_gap": null,
      "grid_row": null,
      "grid_template_areas": null,
      "grid_template_columns": null,
      "grid_template_rows": null,
      "height": null,
      "justify_content": null,
      "justify_items": null,
      "left": null,
      "margin": null,
      "max_height": null,
      "max_width": null,
      "min_height": null,
      "min_width": null,
      "object_fit": null,
      "object_position": null,
      "order": null,
      "overflow": null,
      "overflow_x": null,
      "overflow_y": null,
      "padding": null,
      "right": null,
      "top": null,
      "visibility": null,
      "width": null
     }
    },
    "7f4fb277b88c4f5f8702b1a007506979": {
     "model_module": "@jupyter-widgets/controls",
     "model_module_version": "1.5.0",
     "model_name": "HTMLModel",
     "state": {
      "_dom_classes": [],
      "_model_module": "@jupyter-widgets/controls",
      "_model_module_version": "1.5.0",
      "_model_name": "HTMLModel",
      "_view_count": null,
      "_view_module": "@jupyter-widgets/controls",
      "_view_module_version": "1.5.0",
      "_view_name": "HTMLView",
      "description": "",
      "description_tooltip": null,
      "layout": "IPY_MODEL_ee919f02675b4122a29054a3070a66e7",
      "placeholder": "​",
      "style": "IPY_MODEL_b2c6cb62d99e4da697c7155c5b514635",
      "value": " 53424/53424 [02:30&lt;00:00, 373.62it/s]"
     }
    },
    "80e7dbe704204ad2b98b101191388379": {
     "model_module": "@jupyter-widgets/base",
     "model_module_version": "1.2.0",
     "model_name": "LayoutModel",
     "state": {
      "_model_module": "@jupyter-widgets/base",
      "_model_module_version": "1.2.0",
      "_model_name": "LayoutModel",
      "_view_count": null,
      "_view_module": "@jupyter-widgets/base",
      "_view_module_version": "1.2.0",
      "_view_name": "LayoutView",
      "align_content": null,
      "align_items": null,
      "align_self": null,
      "border": null,
      "bottom": null,
      "display": null,
      "flex": null,
      "flex_flow": null,
      "grid_area": null,
      "grid_auto_columns": null,
      "grid_auto_flow": null,
      "grid_auto_rows": null,
      "grid_column": null,
      "grid_gap": null,
      "grid_row": null,
      "grid_template_areas": null,
      "grid_template_columns": null,
      "grid_template_rows": null,
      "height": null,
      "justify_content": null,
      "justify_items": null,
      "left": null,
      "margin": null,
      "max_height": null,
      "max_width": null,
      "min_height": null,
      "min_width": null,
      "object_fit": null,
      "object_position": null,
      "order": null,
      "overflow": null,
      "overflow_x": null,
      "overflow_y": null,
      "padding": null,
      "right": null,
      "top": null,
      "visibility": null,
      "width": null
     }
    },
    "826c413006484fd891e47b600aa44c84": {
     "model_module": "@jupyter-widgets/controls",
     "model_module_version": "1.5.0",
     "model_name": "HTMLModel",
     "state": {
      "_dom_classes": [],
      "_model_module": "@jupyter-widgets/controls",
      "_model_module_version": "1.5.0",
      "_model_name": "HTMLModel",
      "_view_count": null,
      "_view_module": "@jupyter-widgets/controls",
      "_view_module_version": "1.5.0",
      "_view_name": "HTMLView",
      "description": "",
      "description_tooltip": null,
      "layout": "IPY_MODEL_114bf985f9aa4b0a9de97611af13b07e",
      "placeholder": "​",
      "style": "IPY_MODEL_7142e258da0a4bdda091777b1a8aab85",
      "value": "Ranking: 100%"
     }
    },
    "837c2bd5fdae486b99415fdff217df06": {
     "model_module": "@jupyter-widgets/controls",
     "model_module_version": "1.5.0",
     "model_name": "HTMLModel",
     "state": {
      "_dom_classes": [],
      "_model_module": "@jupyter-widgets/controls",
      "_model_module_version": "1.5.0",
      "_model_name": "HTMLModel",
      "_view_count": null,
      "_view_module": "@jupyter-widgets/controls",
      "_view_module_version": "1.5.0",
      "_view_name": "HTMLView",
      "description": "",
      "description_tooltip": null,
      "layout": "IPY_MODEL_d0c1530531d644978acc546698eac99e",
      "placeholder": "​",
      "style": "IPY_MODEL_2ab74caced084ba292ea59920515a144",
      "value": " 60/60 [34:41&lt;00:00, 35.06s/it, loss=1.22e+3]"
     }
    },
    "88190339039b4a68b9a7d821dba002a0": {
     "model_module": "@jupyter-widgets/controls",
     "model_module_version": "1.5.0",
     "model_name": "DescriptionStyleModel",
     "state": {
      "_model_module": "@jupyter-widgets/controls",
      "_model_module_version": "1.5.0",
      "_model_name": "DescriptionStyleModel",
      "_view_count": null,
      "_view_module": "@jupyter-widgets/base",
      "_view_module_version": "1.2.0",
      "_view_name": "StyleView",
      "description_width": ""
     }
    },
    "8918c1bd48d9418f9987c6a693b0a478": {
     "model_module": "@jupyter-widgets/controls",
     "model_module_version": "1.5.0",
     "model_name": "DescriptionStyleModel",
     "state": {
      "_model_module": "@jupyter-widgets/controls",
      "_model_module_version": "1.5.0",
      "_model_name": "DescriptionStyleModel",
      "_view_count": null,
      "_view_module": "@jupyter-widgets/base",
      "_view_module_version": "1.2.0",
      "_view_name": "StyleView",
      "description_width": ""
     }
    },
    "8c725e4a8585424383d88dbc4acb668c": {
     "model_module": "@jupyter-widgets/controls",
     "model_module_version": "1.5.0",
     "model_name": "HTMLModel",
     "state": {
      "_dom_classes": [],
      "_model_module": "@jupyter-widgets/controls",
      "_model_module_version": "1.5.0",
      "_model_name": "HTMLModel",
      "_view_count": null,
      "_view_module": "@jupyter-widgets/controls",
      "_view_module_version": "1.5.0",
      "_view_name": "HTMLView",
      "description": "",
      "description_tooltip": null,
      "layout": "IPY_MODEL_2c244840607e4015a2481215bfa3fc68",
      "placeholder": "​",
      "style": "IPY_MODEL_47af3ca453964dc4a54f8598ec2d0f74",
      "value": "Ranking: 100%"
     }
    },
    "8cb7b9a6796f4ba38d9c23bb0b3421ce": {
     "model_module": "@jupyter-widgets/controls",
     "model_module_version": "1.5.0",
     "model_name": "ProgressStyleModel",
     "state": {
      "_model_module": "@jupyter-widgets/controls",
      "_model_module_version": "1.5.0",
      "_model_name": "ProgressStyleModel",
      "_view_count": null,
      "_view_module": "@jupyter-widgets/base",
      "_view_module_version": "1.2.0",
      "_view_name": "StyleView",
      "bar_color": null,
      "description_width": ""
     }
    },
    "8ef0029dbec146e08f119b2a1599ce29": {
     "model_module": "@jupyter-widgets/controls",
     "model_module_version": "1.5.0",
     "model_name": "HTMLModel",
     "state": {
      "_dom_classes": [],
      "_model_module": "@jupyter-widgets/controls",
      "_model_module_version": "1.5.0",
      "_model_name": "HTMLModel",
      "_view_count": null,
      "_view_module": "@jupyter-widgets/controls",
      "_view_module_version": "1.5.0",
      "_view_name": "HTMLView",
      "description": "",
      "description_tooltip": null,
      "layout": "IPY_MODEL_80e7dbe704204ad2b98b101191388379",
      "placeholder": "​",
      "style": "IPY_MODEL_8918c1bd48d9418f9987c6a693b0a478",
      "value": "Ranking: 100%"
     }
    },
    "8f080beddbe246f6b4796984a93189cc": {
     "model_module": "@jupyter-widgets/base",
     "model_module_version": "1.2.0",
     "model_name": "LayoutModel",
     "state": {
      "_model_module": "@jupyter-widgets/base",
      "_model_module_version": "1.2.0",
      "_model_name": "LayoutModel",
      "_view_count": null,
      "_view_module": "@jupyter-widgets/base",
      "_view_module_version": "1.2.0",
      "_view_name": "LayoutView",
      "align_content": null,
      "align_items": null,
      "align_self": null,
      "border": null,
      "bottom": null,
      "display": null,
      "flex": null,
      "flex_flow": null,
      "grid_area": null,
      "grid_auto_columns": null,
      "grid_auto_flow": null,
      "grid_auto_rows": null,
      "grid_column": null,
      "grid_gap": null,
      "grid_row": null,
      "grid_template_areas": null,
      "grid_template_columns": null,
      "grid_template_rows": null,
      "height": null,
      "justify_content": null,
      "justify_items": null,
      "left": null,
      "margin": null,
      "max_height": null,
      "max_width": null,
      "min_height": null,
      "min_width": null,
      "object_fit": null,
      "object_position": null,
      "order": null,
      "overflow": null,
      "overflow_x": null,
      "overflow_y": null,
      "padding": null,
      "right": null,
      "top": null,
      "visibility": null,
      "width": null
     }
    },
    "90823a74c4ce45ae9fe628a17f361ff7": {
     "model_module": "@jupyter-widgets/controls",
     "model_module_version": "1.5.0",
     "model_name": "HBoxModel",
     "state": {
      "_dom_classes": [],
      "_model_module": "@jupyter-widgets/controls",
      "_model_module_version": "1.5.0",
      "_model_name": "HBoxModel",
      "_view_count": null,
      "_view_module": "@jupyter-widgets/controls",
      "_view_module_version": "1.5.0",
      "_view_name": "HBoxView",
      "box_style": "",
      "children": [
       "IPY_MODEL_6379403d02ba44aeaedea4ea563fa998",
       "IPY_MODEL_287ffdfef51c44ea8f029d6c02464c75",
       "IPY_MODEL_38d87dc9ef224487ab723d9bb2394aab"
      ],
      "layout": "IPY_MODEL_51a98b43ef3e48f8b973bf36dbeecd63"
     }
    },
    "923f929e5bb2409e9282505a29ab1789": {
     "model_module": "@jupyter-widgets/base",
     "model_module_version": "1.2.0",
     "model_name": "LayoutModel",
     "state": {
      "_model_module": "@jupyter-widgets/base",
      "_model_module_version": "1.2.0",
      "_model_name": "LayoutModel",
      "_view_count": null,
      "_view_module": "@jupyter-widgets/base",
      "_view_module_version": "1.2.0",
      "_view_name": "LayoutView",
      "align_content": null,
      "align_items": null,
      "align_self": null,
      "border": null,
      "bottom": null,
      "display": null,
      "flex": null,
      "flex_flow": null,
      "grid_area": null,
      "grid_auto_columns": null,
      "grid_auto_flow": null,
      "grid_auto_rows": null,
      "grid_column": null,
      "grid_gap": null,
      "grid_row": null,
      "grid_template_areas": null,
      "grid_template_columns": null,
      "grid_template_rows": null,
      "height": null,
      "justify_content": null,
      "justify_items": null,
      "left": null,
      "margin": null,
      "max_height": null,
      "max_width": null,
      "min_height": null,
      "min_width": null,
      "object_fit": null,
      "object_position": null,
      "order": null,
      "overflow": null,
      "overflow_x": null,
      "overflow_y": null,
      "padding": null,
      "right": null,
      "top": null,
      "visibility": null,
      "width": null
     }
    },
    "97cc9b5f894f438c9ceab73ef5cc2585": {
     "model_module": "@jupyter-widgets/base",
     "model_module_version": "1.2.0",
     "model_name": "LayoutModel",
     "state": {
      "_model_module": "@jupyter-widgets/base",
      "_model_module_version": "1.2.0",
      "_model_name": "LayoutModel",
      "_view_count": null,
      "_view_module": "@jupyter-widgets/base",
      "_view_module_version": "1.2.0",
      "_view_name": "LayoutView",
      "align_content": null,
      "align_items": null,
      "align_self": null,
      "border": null,
      "bottom": null,
      "display": null,
      "flex": null,
      "flex_flow": null,
      "grid_area": null,
      "grid_auto_columns": null,
      "grid_auto_flow": null,
      "grid_auto_rows": null,
      "grid_column": null,
      "grid_gap": null,
      "grid_row": null,
      "grid_template_areas": null,
      "grid_template_columns": null,
      "grid_template_rows": null,
      "height": null,
      "justify_content": null,
      "justify_items": null,
      "left": null,
      "margin": null,
      "max_height": null,
      "max_width": null,
      "min_height": null,
      "min_width": null,
      "object_fit": null,
      "object_position": null,
      "order": null,
      "overflow": null,
      "overflow_x": null,
      "overflow_y": null,
      "padding": null,
      "right": null,
      "top": null,
      "visibility": null,
      "width": null
     }
    },
    "985f4912e1a948939da37f4f92f3e645": {
     "model_module": "@jupyter-widgets/controls",
     "model_module_version": "1.5.0",
     "model_name": "HTMLModel",
     "state": {
      "_dom_classes": [],
      "_model_module": "@jupyter-widgets/controls",
      "_model_module_version": "1.5.0",
      "_model_name": "HTMLModel",
      "_view_count": null,
      "_view_module": "@jupyter-widgets/controls",
      "_view_module_version": "1.5.0",
      "_view_name": "HTMLView",
      "description": "",
      "description_tooltip": null,
      "layout": "IPY_MODEL_97cc9b5f894f438c9ceab73ef5cc2585",
      "placeholder": "​",
      "style": "IPY_MODEL_ccfded815c5049fe8294e47fbc0d0ad0",
      "value": " 53424/53424 [02:24&lt;00:00, 393.10it/s]"
     }
    },
    "a6e2530b0e57448694a813d9d6b52033": {
     "model_module": "@jupyter-widgets/controls",
     "model_module_version": "1.5.0",
     "model_name": "HBoxModel",
     "state": {
      "_dom_classes": [],
      "_model_module": "@jupyter-widgets/controls",
      "_model_module_version": "1.5.0",
      "_model_name": "HBoxModel",
      "_view_count": null,
      "_view_module": "@jupyter-widgets/controls",
      "_view_module_version": "1.5.0",
      "_view_name": "HBoxView",
      "box_style": "",
      "children": [
       "IPY_MODEL_3b6ad22d1b584f7bbe94eb0b13824114",
       "IPY_MODEL_21cd264e9fae4e70becb5afc0e8e76be",
       "IPY_MODEL_837c2bd5fdae486b99415fdff217df06"
      ],
      "layout": "IPY_MODEL_09aa9693548a4d2383290bd443a2a9cc"
     }
    },
    "b2c6cb62d99e4da697c7155c5b514635": {
     "model_module": "@jupyter-widgets/controls",
     "model_module_version": "1.5.0",
     "model_name": "DescriptionStyleModel",
     "state": {
      "_model_module": "@jupyter-widgets/controls",
      "_model_module_version": "1.5.0",
      "_model_name": "DescriptionStyleModel",
      "_view_count": null,
      "_view_module": "@jupyter-widgets/base",
      "_view_module_version": "1.2.0",
      "_view_name": "StyleView",
      "description_width": ""
     }
    },
    "c60bcfddfe3b4b038884e499d8b528ca": {
     "model_module": "@jupyter-widgets/controls",
     "model_module_version": "1.5.0",
     "model_name": "DescriptionStyleModel",
     "state": {
      "_model_module": "@jupyter-widgets/controls",
      "_model_module_version": "1.5.0",
      "_model_name": "DescriptionStyleModel",
      "_view_count": null,
      "_view_module": "@jupyter-widgets/base",
      "_view_module_version": "1.2.0",
      "_view_name": "StyleView",
      "description_width": ""
     }
    },
    "c8bbc67a81ce4119ba89ee29cd2282f6": {
     "model_module": "@jupyter-widgets/base",
     "model_module_version": "1.2.0",
     "model_name": "LayoutModel",
     "state": {
      "_model_module": "@jupyter-widgets/base",
      "_model_module_version": "1.2.0",
      "_model_name": "LayoutModel",
      "_view_count": null,
      "_view_module": "@jupyter-widgets/base",
      "_view_module_version": "1.2.0",
      "_view_name": "LayoutView",
      "align_content": null,
      "align_items": null,
      "align_self": null,
      "border": null,
      "bottom": null,
      "display": null,
      "flex": null,
      "flex_flow": null,
      "grid_area": null,
      "grid_auto_columns": null,
      "grid_auto_flow": null,
      "grid_auto_rows": null,
      "grid_column": null,
      "grid_gap": null,
      "grid_row": null,
      "grid_template_areas": null,
      "grid_template_columns": null,
      "grid_template_rows": null,
      "height": null,
      "justify_content": null,
      "justify_items": null,
      "left": null,
      "margin": null,
      "max_height": null,
      "max_width": null,
      "min_height": null,
      "min_width": null,
      "object_fit": null,
      "object_position": null,
      "order": null,
      "overflow": null,
      "overflow_x": null,
      "overflow_y": null,
      "padding": null,
      "right": null,
      "top": null,
      "visibility": null,
      "width": null
     }
    },
    "cbbe9e829d6f47cd98d2992caefa72e1": {
     "model_module": "@jupyter-widgets/base",
     "model_module_version": "1.2.0",
     "model_name": "LayoutModel",
     "state": {
      "_model_module": "@jupyter-widgets/base",
      "_model_module_version": "1.2.0",
      "_model_name": "LayoutModel",
      "_view_count": null,
      "_view_module": "@jupyter-widgets/base",
      "_view_module_version": "1.2.0",
      "_view_name": "LayoutView",
      "align_content": null,
      "align_items": null,
      "align_self": null,
      "border": null,
      "bottom": null,
      "display": null,
      "flex": null,
      "flex_flow": null,
      "grid_area": null,
      "grid_auto_columns": null,
      "grid_auto_flow": null,
      "grid_auto_rows": null,
      "grid_column": null,
      "grid_gap": null,
      "grid_row": null,
      "grid_template_areas": null,
      "grid_template_columns": null,
      "grid_template_rows": null,
      "height": null,
      "justify_content": null,
      "justify_items": null,
      "left": null,
      "margin": null,
      "max_height": null,
      "max_width": null,
      "min_height": null,
      "min_width": null,
      "object_fit": null,
      "object_position": null,
      "order": null,
      "overflow": null,
      "overflow_x": null,
      "overflow_y": null,
      "padding": null,
      "right": null,
      "top": null,
      "visibility": null,
      "width": null
     }
    },
    "cc614e9401eb44e6ace7ca32e830cabd": {
     "model_module": "@jupyter-widgets/controls",
     "model_module_version": "1.5.0",
     "model_name": "ProgressStyleModel",
     "state": {
      "_model_module": "@jupyter-widgets/controls",
      "_model_module_version": "1.5.0",
      "_model_name": "ProgressStyleModel",
      "_view_count": null,
      "_view_module": "@jupyter-widgets/base",
      "_view_module_version": "1.2.0",
      "_view_name": "StyleView",
      "bar_color": null,
      "description_width": ""
     }
    },
    "ccfded815c5049fe8294e47fbc0d0ad0": {
     "model_module": "@jupyter-widgets/controls",
     "model_module_version": "1.5.0",
     "model_name": "DescriptionStyleModel",
     "state": {
      "_model_module": "@jupyter-widgets/controls",
      "_model_module_version": "1.5.0",
      "_model_name": "DescriptionStyleModel",
      "_view_count": null,
      "_view_module": "@jupyter-widgets/base",
      "_view_module_version": "1.2.0",
      "_view_name": "StyleView",
      "description_width": ""
     }
    },
    "cea11d2b36af4e8fb1bfc5cd0335206b": {
     "model_module": "@jupyter-widgets/controls",
     "model_module_version": "1.5.0",
     "model_name": "FloatProgressModel",
     "state": {
      "_dom_classes": [],
      "_model_module": "@jupyter-widgets/controls",
      "_model_module_version": "1.5.0",
      "_model_name": "FloatProgressModel",
      "_view_count": null,
      "_view_module": "@jupyter-widgets/controls",
      "_view_module_version": "1.5.0",
      "_view_name": "ProgressView",
      "bar_style": "success",
      "description": "",
      "description_tooltip": null,
      "layout": "IPY_MODEL_23def9272f56402286862d781032c0ee",
      "max": 53424,
      "min": 0,
      "orientation": "horizontal",
      "style": "IPY_MODEL_465cde7973f242fea0101060c45136c2",
      "value": 53424
     }
    },
    "d0c1530531d644978acc546698eac99e": {
     "model_module": "@jupyter-widgets/base",
     "model_module_version": "1.2.0",
     "model_name": "LayoutModel",
     "state": {
      "_model_module": "@jupyter-widgets/base",
      "_model_module_version": "1.2.0",
      "_model_name": "LayoutModel",
      "_view_count": null,
      "_view_module": "@jupyter-widgets/base",
      "_view_module_version": "1.2.0",
      "_view_name": "LayoutView",
      "align_content": null,
      "align_items": null,
      "align_self": null,
      "border": null,
      "bottom": null,
      "display": null,
      "flex": null,
      "flex_flow": null,
      "grid_area": null,
      "grid_auto_columns": null,
      "grid_auto_flow": null,
      "grid_auto_rows": null,
      "grid_column": null,
      "grid_gap": null,
      "grid_row": null,
      "grid_template_areas": null,
      "grid_template_columns": null,
      "grid_template_rows": null,
      "height": null,
      "justify_content": null,
      "justify_items": null,
      "left": null,
      "margin": null,
      "max_height": null,
      "max_width": null,
      "min_height": null,
      "min_width": null,
      "object_fit": null,
      "object_position": null,
      "order": null,
      "overflow": null,
      "overflow_x": null,
      "overflow_y": null,
      "padding": null,
      "right": null,
      "top": null,
      "visibility": null,
      "width": null
     }
    },
    "d7df98fefa564bdaa1aaf67e443d7e4a": {
     "model_module": "@jupyter-widgets/controls",
     "model_module_version": "1.5.0",
     "model_name": "HTMLModel",
     "state": {
      "_dom_classes": [],
      "_model_module": "@jupyter-widgets/controls",
      "_model_module_version": "1.5.0",
      "_model_name": "HTMLModel",
      "_view_count": null,
      "_view_module": "@jupyter-widgets/controls",
      "_view_module_version": "1.5.0",
      "_view_name": "HTMLView",
      "description": "",
      "description_tooltip": null,
      "layout": "IPY_MODEL_cbbe9e829d6f47cd98d2992caefa72e1",
      "placeholder": "​",
      "style": "IPY_MODEL_463d4599e8f14fcd9c48c2806143cd92",
      "value": "100%"
     }
    },
    "e05cabb4898f4155ab4cf3f4016e0992": {
     "model_module": "@jupyter-widgets/controls",
     "model_module_version": "1.5.0",
     "model_name": "HBoxModel",
     "state": {
      "_dom_classes": [],
      "_model_module": "@jupyter-widgets/controls",
      "_model_module_version": "1.5.0",
      "_model_name": "HBoxModel",
      "_view_count": null,
      "_view_module": "@jupyter-widgets/controls",
      "_view_module_version": "1.5.0",
      "_view_name": "HBoxView",
      "box_style": "",
      "children": [
       "IPY_MODEL_826c413006484fd891e47b600aa44c84",
       "IPY_MODEL_cea11d2b36af4e8fb1bfc5cd0335206b",
       "IPY_MODEL_fd833978cea54ce5a68fc38cad53a850"
      ],
      "layout": "IPY_MODEL_62ed222bfb1d43db8028763363fe834c"
     }
    },
    "e72ecd9b7c6e45a88eb5c094e340d4c4": {
     "model_module": "@jupyter-widgets/controls",
     "model_module_version": "1.5.0",
     "model_name": "FloatProgressModel",
     "state": {
      "_dom_classes": [],
      "_model_module": "@jupyter-widgets/controls",
      "_model_module_version": "1.5.0",
      "_model_name": "FloatProgressModel",
      "_view_count": null,
      "_view_module": "@jupyter-widgets/controls",
      "_view_module_version": "1.5.0",
      "_view_name": "ProgressView",
      "bar_style": "success",
      "description": "",
      "description_tooltip": null,
      "layout": "IPY_MODEL_7b67470740dc463799eb717163ec22c4",
      "max": 53424,
      "min": 0,
      "orientation": "horizontal",
      "style": "IPY_MODEL_49efa87e28ca451592f1e4e44e49fcc0",
      "value": 53424
     }
    },
    "ee919f02675b4122a29054a3070a66e7": {
     "model_module": "@jupyter-widgets/base",
     "model_module_version": "1.2.0",
     "model_name": "LayoutModel",
     "state": {
      "_model_module": "@jupyter-widgets/base",
      "_model_module_version": "1.2.0",
      "_model_name": "LayoutModel",
      "_view_count": null,
      "_view_module": "@jupyter-widgets/base",
      "_view_module_version": "1.2.0",
      "_view_name": "LayoutView",
      "align_content": null,
      "align_items": null,
      "align_self": null,
      "border": null,
      "bottom": null,
      "display": null,
      "flex": null,
      "flex_flow": null,
      "grid_area": null,
      "grid_auto_columns": null,
      "grid_auto_flow": null,
      "grid_auto_rows": null,
      "grid_column": null,
      "grid_gap": null,
      "grid_row": null,
      "grid_template_areas": null,
      "grid_template_columns": null,
      "grid_template_rows": null,
      "height": null,
      "justify_content": null,
      "justify_items": null,
      "left": null,
      "margin": null,
      "max_height": null,
      "max_width": null,
      "min_height": null,
      "min_width": null,
      "object_fit": null,
      "object_position": null,
      "order": null,
      "overflow": null,
      "overflow_x": null,
      "overflow_y": null,
      "padding": null,
      "right": null,
      "top": null,
      "visibility": null,
      "width": null
     }
    },
    "fd833978cea54ce5a68fc38cad53a850": {
     "model_module": "@jupyter-widgets/controls",
     "model_module_version": "1.5.0",
     "model_name": "HTMLModel",
     "state": {
      "_dom_classes": [],
      "_model_module": "@jupyter-widgets/controls",
      "_model_module_version": "1.5.0",
      "_model_name": "HTMLModel",
      "_view_count": null,
      "_view_module": "@jupyter-widgets/controls",
      "_view_module_version": "1.5.0",
      "_view_name": "HTMLView",
      "description": "",
      "description_tooltip": null,
      "layout": "IPY_MODEL_3b95cf662fa44e7a8849f2283900683b",
      "placeholder": "​",
      "style": "IPY_MODEL_4fdabb02f4f148a8bc68f065fe05627b",
      "value": " 53424/53424 [02:21&lt;00:00, 398.55it/s]"
     }
    }
   }
  }
 },
 "nbformat": 4,
 "nbformat_minor": 5
}
